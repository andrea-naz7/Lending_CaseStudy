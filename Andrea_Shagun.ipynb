{
 "cells": [
  {
   "cell_type": "markdown",
   "id": "c4b7e1bb",
   "metadata": {},
   "source": [
    "# Lending Club Case Study\n",
    "\n"
   ]
  },
  {
   "cell_type": "markdown",
   "id": "e601e0f5",
   "metadata": {},
   "source": [
    "## Objective"
   ]
  },
  {
   "cell_type": "markdown",
   "id": "cbcdccfb",
   "metadata": {},
   "source": [
    "Identify driving factors behind loan default in order to reduce credit loss.\n",
    "\n"
   ]
  },
  {
   "cell_type": "code",
   "execution_count": 1,
   "id": "6c93ed3c",
   "metadata": {},
   "outputs": [],
   "source": [
    "#import libraries\n",
    "import numpy as np\n",
    "import pandas as pd\n",
    "import matplotlib.pyplot as plt\n",
    "import seaborn as sns\n",
    "import warnings\n",
    "warnings.filterwarnings('ignore')\n",
    "plt.style.use('ggplot')"
   ]
  },
  {
   "cell_type": "code",
   "execution_count": 2,
   "id": "da565389",
   "metadata": {},
   "outputs": [
    {
     "data": {
      "text/html": [
       "<div>\n",
       "<style scoped>\n",
       "    .dataframe tbody tr th:only-of-type {\n",
       "        vertical-align: middle;\n",
       "    }\n",
       "\n",
       "    .dataframe tbody tr th {\n",
       "        vertical-align: top;\n",
       "    }\n",
       "\n",
       "    .dataframe thead th {\n",
       "        text-align: right;\n",
       "    }\n",
       "</style>\n",
       "<table border=\"1\" class=\"dataframe\">\n",
       "  <thead>\n",
       "    <tr style=\"text-align: right;\">\n",
       "      <th></th>\n",
       "      <th>id</th>\n",
       "      <th>member_id</th>\n",
       "      <th>loan_amnt</th>\n",
       "      <th>funded_amnt</th>\n",
       "      <th>funded_amnt_inv</th>\n",
       "      <th>term</th>\n",
       "      <th>int_rate</th>\n",
       "      <th>installment</th>\n",
       "      <th>grade</th>\n",
       "      <th>sub_grade</th>\n",
       "      <th>...</th>\n",
       "      <th>num_tl_90g_dpd_24m</th>\n",
       "      <th>num_tl_op_past_12m</th>\n",
       "      <th>pct_tl_nvr_dlq</th>\n",
       "      <th>percent_bc_gt_75</th>\n",
       "      <th>pub_rec_bankruptcies</th>\n",
       "      <th>tax_liens</th>\n",
       "      <th>tot_hi_cred_lim</th>\n",
       "      <th>total_bal_ex_mort</th>\n",
       "      <th>total_bc_limit</th>\n",
       "      <th>total_il_high_credit_limit</th>\n",
       "    </tr>\n",
       "  </thead>\n",
       "  <tbody>\n",
       "    <tr>\n",
       "      <th>0</th>\n",
       "      <td>1077501</td>\n",
       "      <td>1296599</td>\n",
       "      <td>5000</td>\n",
       "      <td>5000</td>\n",
       "      <td>4975.0</td>\n",
       "      <td>36 months</td>\n",
       "      <td>10.65%</td>\n",
       "      <td>162.87</td>\n",
       "      <td>B</td>\n",
       "      <td>B2</td>\n",
       "      <td>...</td>\n",
       "      <td>NaN</td>\n",
       "      <td>NaN</td>\n",
       "      <td>NaN</td>\n",
       "      <td>NaN</td>\n",
       "      <td>0.0</td>\n",
       "      <td>0.0</td>\n",
       "      <td>NaN</td>\n",
       "      <td>NaN</td>\n",
       "      <td>NaN</td>\n",
       "      <td>NaN</td>\n",
       "    </tr>\n",
       "    <tr>\n",
       "      <th>1</th>\n",
       "      <td>1077430</td>\n",
       "      <td>1314167</td>\n",
       "      <td>2500</td>\n",
       "      <td>2500</td>\n",
       "      <td>2500.0</td>\n",
       "      <td>60 months</td>\n",
       "      <td>15.27%</td>\n",
       "      <td>59.83</td>\n",
       "      <td>C</td>\n",
       "      <td>C4</td>\n",
       "      <td>...</td>\n",
       "      <td>NaN</td>\n",
       "      <td>NaN</td>\n",
       "      <td>NaN</td>\n",
       "      <td>NaN</td>\n",
       "      <td>0.0</td>\n",
       "      <td>0.0</td>\n",
       "      <td>NaN</td>\n",
       "      <td>NaN</td>\n",
       "      <td>NaN</td>\n",
       "      <td>NaN</td>\n",
       "    </tr>\n",
       "    <tr>\n",
       "      <th>2</th>\n",
       "      <td>1077175</td>\n",
       "      <td>1313524</td>\n",
       "      <td>2400</td>\n",
       "      <td>2400</td>\n",
       "      <td>2400.0</td>\n",
       "      <td>36 months</td>\n",
       "      <td>15.96%</td>\n",
       "      <td>84.33</td>\n",
       "      <td>C</td>\n",
       "      <td>C5</td>\n",
       "      <td>...</td>\n",
       "      <td>NaN</td>\n",
       "      <td>NaN</td>\n",
       "      <td>NaN</td>\n",
       "      <td>NaN</td>\n",
       "      <td>0.0</td>\n",
       "      <td>0.0</td>\n",
       "      <td>NaN</td>\n",
       "      <td>NaN</td>\n",
       "      <td>NaN</td>\n",
       "      <td>NaN</td>\n",
       "    </tr>\n",
       "    <tr>\n",
       "      <th>3</th>\n",
       "      <td>1076863</td>\n",
       "      <td>1277178</td>\n",
       "      <td>10000</td>\n",
       "      <td>10000</td>\n",
       "      <td>10000.0</td>\n",
       "      <td>36 months</td>\n",
       "      <td>13.49%</td>\n",
       "      <td>339.31</td>\n",
       "      <td>C</td>\n",
       "      <td>C1</td>\n",
       "      <td>...</td>\n",
       "      <td>NaN</td>\n",
       "      <td>NaN</td>\n",
       "      <td>NaN</td>\n",
       "      <td>NaN</td>\n",
       "      <td>0.0</td>\n",
       "      <td>0.0</td>\n",
       "      <td>NaN</td>\n",
       "      <td>NaN</td>\n",
       "      <td>NaN</td>\n",
       "      <td>NaN</td>\n",
       "    </tr>\n",
       "    <tr>\n",
       "      <th>4</th>\n",
       "      <td>1075358</td>\n",
       "      <td>1311748</td>\n",
       "      <td>3000</td>\n",
       "      <td>3000</td>\n",
       "      <td>3000.0</td>\n",
       "      <td>60 months</td>\n",
       "      <td>12.69%</td>\n",
       "      <td>67.79</td>\n",
       "      <td>B</td>\n",
       "      <td>B5</td>\n",
       "      <td>...</td>\n",
       "      <td>NaN</td>\n",
       "      <td>NaN</td>\n",
       "      <td>NaN</td>\n",
       "      <td>NaN</td>\n",
       "      <td>0.0</td>\n",
       "      <td>0.0</td>\n",
       "      <td>NaN</td>\n",
       "      <td>NaN</td>\n",
       "      <td>NaN</td>\n",
       "      <td>NaN</td>\n",
       "    </tr>\n",
       "  </tbody>\n",
       "</table>\n",
       "<p>5 rows × 111 columns</p>\n",
       "</div>"
      ],
      "text/plain": [
       "        id  member_id  loan_amnt  funded_amnt  funded_amnt_inv        term  \\\n",
       "0  1077501    1296599       5000         5000           4975.0   36 months   \n",
       "1  1077430    1314167       2500         2500           2500.0   60 months   \n",
       "2  1077175    1313524       2400         2400           2400.0   36 months   \n",
       "3  1076863    1277178      10000        10000          10000.0   36 months   \n",
       "4  1075358    1311748       3000         3000           3000.0   60 months   \n",
       "\n",
       "  int_rate  installment grade sub_grade  ... num_tl_90g_dpd_24m  \\\n",
       "0   10.65%       162.87     B        B2  ...                NaN   \n",
       "1   15.27%        59.83     C        C4  ...                NaN   \n",
       "2   15.96%        84.33     C        C5  ...                NaN   \n",
       "3   13.49%       339.31     C        C1  ...                NaN   \n",
       "4   12.69%        67.79     B        B5  ...                NaN   \n",
       "\n",
       "  num_tl_op_past_12m pct_tl_nvr_dlq  percent_bc_gt_75 pub_rec_bankruptcies  \\\n",
       "0                NaN            NaN               NaN                  0.0   \n",
       "1                NaN            NaN               NaN                  0.0   \n",
       "2                NaN            NaN               NaN                  0.0   \n",
       "3                NaN            NaN               NaN                  0.0   \n",
       "4                NaN            NaN               NaN                  0.0   \n",
       "\n",
       "  tax_liens tot_hi_cred_lim total_bal_ex_mort total_bc_limit  \\\n",
       "0       0.0             NaN               NaN            NaN   \n",
       "1       0.0             NaN               NaN            NaN   \n",
       "2       0.0             NaN               NaN            NaN   \n",
       "3       0.0             NaN               NaN            NaN   \n",
       "4       0.0             NaN               NaN            NaN   \n",
       "\n",
       "  total_il_high_credit_limit  \n",
       "0                        NaN  \n",
       "1                        NaN  \n",
       "2                        NaN  \n",
       "3                        NaN  \n",
       "4                        NaN  \n",
       "\n",
       "[5 rows x 111 columns]"
      ]
     },
     "execution_count": 2,
     "metadata": {},
     "output_type": "execute_result"
    }
   ],
   "source": [
    "#load the data \n",
    "inp0 = pd.read_csv('loan.csv',header=0,low_memory=False)\n",
    "inp0.head()"
   ]
  },
  {
   "cell_type": "markdown",
   "id": "f5aaef78",
   "metadata": {},
   "source": [
    "## 1.Data Understanding"
   ]
  },
  {
   "cell_type": "markdown",
   "id": "6071bdd1",
   "metadata": {},
   "source": [
    "The below steps are executed for **data understanding**:<br>\n",
    "> 1. Finding number of rows & columns<br>\n",
    "> 2. Determing which columns to drop based on :<br>\n",
    ">> 2.1 whether the data in the columns pertains to those applications that have already been accepted<br>\n",
    ">> 2.2 whether the data in the columns are unique text/descriptive values<br>\n",
    ">> 2.3 whether the data in the columns are only single values<br>\n",
    ">> 2.4 whether the data in the columns contain only NaN values<br>\n",
    ">> 2.5 whether the data in the columns is very unique<br>\n",
    ">> 2.6 whether the data contains only 1 unique value in each column<br>\n",
    ">> 2.7 whether the data in the columns contain high percentage of Null & NaN values<br>\n",
    "> 3. Determination & explanation of the columns that will act as driving factors to identify loans that may default<br>\n",
    "> 4. Remove the rows for which applications have already been approved.    \n",
    "> 5. Identification of data quality issues such as removing spaces or removing special symbols like % or in general \n",
    "    standardizing the data for EDA."
   ]
  },
  {
   "cell_type": "markdown",
   "id": "ec4cb2c8",
   "metadata": {},
   "source": [
    "**1. Finding number of rows & columns**"
   ]
  },
  {
   "cell_type": "code",
   "execution_count": 3,
   "id": "161af8aa",
   "metadata": {},
   "outputs": [
    {
     "data": {
      "text/plain": [
       "(39717, 111)"
      ]
     },
     "execution_count": 3,
     "metadata": {},
     "output_type": "execute_result"
    }
   ],
   "source": [
    "#number of rows & columns\n",
    "inp0.shape"
   ]
  },
  {
   "cell_type": "code",
   "execution_count": 4,
   "id": "21c9c1d7",
   "metadata": {},
   "outputs": [
    {
     "data": {
      "text/plain": [
       "['id',\n",
       " 'member_id',\n",
       " 'loan_amnt',\n",
       " 'funded_amnt',\n",
       " 'funded_amnt_inv',\n",
       " 'term',\n",
       " 'int_rate',\n",
       " 'installment',\n",
       " 'grade',\n",
       " 'sub_grade',\n",
       " 'emp_title',\n",
       " 'emp_length',\n",
       " 'home_ownership',\n",
       " 'annual_inc',\n",
       " 'verification_status',\n",
       " 'issue_d',\n",
       " 'loan_status',\n",
       " 'pymnt_plan',\n",
       " 'url',\n",
       " 'desc',\n",
       " 'purpose',\n",
       " 'title',\n",
       " 'zip_code',\n",
       " 'addr_state',\n",
       " 'dti',\n",
       " 'delinq_2yrs',\n",
       " 'earliest_cr_line',\n",
       " 'inq_last_6mths',\n",
       " 'mths_since_last_delinq',\n",
       " 'mths_since_last_record',\n",
       " 'open_acc',\n",
       " 'pub_rec',\n",
       " 'revol_bal',\n",
       " 'revol_util',\n",
       " 'total_acc',\n",
       " 'initial_list_status',\n",
       " 'out_prncp',\n",
       " 'out_prncp_inv',\n",
       " 'total_pymnt',\n",
       " 'total_pymnt_inv',\n",
       " 'total_rec_prncp',\n",
       " 'total_rec_int',\n",
       " 'total_rec_late_fee',\n",
       " 'recoveries',\n",
       " 'collection_recovery_fee',\n",
       " 'last_pymnt_d',\n",
       " 'last_pymnt_amnt',\n",
       " 'next_pymnt_d',\n",
       " 'last_credit_pull_d',\n",
       " 'collections_12_mths_ex_med',\n",
       " 'mths_since_last_major_derog',\n",
       " 'policy_code',\n",
       " 'application_type',\n",
       " 'annual_inc_joint',\n",
       " 'dti_joint',\n",
       " 'verification_status_joint',\n",
       " 'acc_now_delinq',\n",
       " 'tot_coll_amt',\n",
       " 'tot_cur_bal',\n",
       " 'open_acc_6m',\n",
       " 'open_il_6m',\n",
       " 'open_il_12m',\n",
       " 'open_il_24m',\n",
       " 'mths_since_rcnt_il',\n",
       " 'total_bal_il',\n",
       " 'il_util',\n",
       " 'open_rv_12m',\n",
       " 'open_rv_24m',\n",
       " 'max_bal_bc',\n",
       " 'all_util',\n",
       " 'total_rev_hi_lim',\n",
       " 'inq_fi',\n",
       " 'total_cu_tl',\n",
       " 'inq_last_12m',\n",
       " 'acc_open_past_24mths',\n",
       " 'avg_cur_bal',\n",
       " 'bc_open_to_buy',\n",
       " 'bc_util',\n",
       " 'chargeoff_within_12_mths',\n",
       " 'delinq_amnt',\n",
       " 'mo_sin_old_il_acct',\n",
       " 'mo_sin_old_rev_tl_op',\n",
       " 'mo_sin_rcnt_rev_tl_op',\n",
       " 'mo_sin_rcnt_tl',\n",
       " 'mort_acc',\n",
       " 'mths_since_recent_bc',\n",
       " 'mths_since_recent_bc_dlq',\n",
       " 'mths_since_recent_inq',\n",
       " 'mths_since_recent_revol_delinq',\n",
       " 'num_accts_ever_120_pd',\n",
       " 'num_actv_bc_tl',\n",
       " 'num_actv_rev_tl',\n",
       " 'num_bc_sats',\n",
       " 'num_bc_tl',\n",
       " 'num_il_tl',\n",
       " 'num_op_rev_tl',\n",
       " 'num_rev_accts',\n",
       " 'num_rev_tl_bal_gt_0',\n",
       " 'num_sats',\n",
       " 'num_tl_120dpd_2m',\n",
       " 'num_tl_30dpd',\n",
       " 'num_tl_90g_dpd_24m',\n",
       " 'num_tl_op_past_12m',\n",
       " 'pct_tl_nvr_dlq',\n",
       " 'percent_bc_gt_75',\n",
       " 'pub_rec_bankruptcies',\n",
       " 'tax_liens',\n",
       " 'tot_hi_cred_lim',\n",
       " 'total_bal_ex_mort',\n",
       " 'total_bc_limit',\n",
       " 'total_il_high_credit_limit']"
      ]
     },
     "execution_count": 4,
     "metadata": {},
     "output_type": "execute_result"
    }
   ],
   "source": [
    "#list all columns \n",
    "list(inp0.columns)"
   ]
  },
  {
   "cell_type": "markdown",
   "id": "6ecb864e",
   "metadata": {},
   "source": [
    "**2. Determing which columns to drop based on :<br>\n",
    "    2.1 whether the data in the columns pertains to those applications that have already been accepted**"
   ]
  },
  {
   "cell_type": "markdown",
   "id": "dd08659b",
   "metadata": {},
   "source": [
    "**Action**\n",
    "\n",
    "Below columns contain customer behavior variables which are valid only after loan is approved and therefore they cannot be used for prediction of whether the loan will be approved. Hence these columns are removed.\n",
    "\n",
    "List of columns and their description : To-be-completed"
   ]
  },
  {
   "cell_type": "code",
   "execution_count": 5,
   "id": "a94e90b0",
   "metadata": {},
   "outputs": [],
   "source": [
    "inp0.drop(['delinq_2yrs','earliest_cr_line','inq_last_6mths','open_acc','pub_rec','revol_bal','revol_util','total_acc','out_prncp',\n",
    "          'out_prncp_inv','total_pymnt','total_pymnt_inv','total_rec_prncp','total_rec_int','total_rec_late_fee','recoveries',\n",
    "          'collection_recovery_fee', 'last_pymnt_d','last_pymnt_amnt','last_credit_pull_d','application_type'], \n",
    "          axis=1, inplace=True)"
   ]
  },
  {
   "cell_type": "code",
   "execution_count": 6,
   "id": "aec51a55",
   "metadata": {},
   "outputs": [
    {
     "data": {
      "text/plain": [
       "(39717, 90)"
      ]
     },
     "execution_count": 6,
     "metadata": {},
     "output_type": "execute_result"
    }
   ],
   "source": [
    "inp0.shape"
   ]
  },
  {
   "cell_type": "markdown",
   "id": "eec6cf91",
   "metadata": {},
   "source": [
    "**2.2 whether the data in the columns are unique text/descriptive values**"
   ]
  },
  {
   "cell_type": "markdown",
   "id": "0be58acb",
   "metadata": {},
   "source": [
    "**Action**\n",
    "\n",
    "Below columns contain data that is not pertinent in determinating the factors that will predict the possibility of the loan \n",
    "being approved because of unique text values for each row as described in the data dictionary. Hence these columns are removed.\n",
    "\n",
    "list of columsn & their description : to - be completed"
   ]
  },
  {
   "cell_type": "code",
   "execution_count": 7,
   "id": "fe2d8fed",
   "metadata": {},
   "outputs": [],
   "source": [
    "inp0.drop(['emp_title','pymnt_plan','url','desc','title', 'zip_code'],axis=1, inplace=True)"
   ]
  },
  {
   "cell_type": "code",
   "execution_count": 8,
   "id": "f6bc6ef8",
   "metadata": {},
   "outputs": [
    {
     "data": {
      "text/plain": [
       "(39717, 84)"
      ]
     },
     "execution_count": 8,
     "metadata": {},
     "output_type": "execute_result"
    }
   ],
   "source": [
    "inp0.shape"
   ]
  },
  {
   "cell_type": "markdown",
   "id": "8a188bb7",
   "metadata": {},
   "source": [
    "**2.3 whether the data in the columns are only single values**"
   ]
  },
  {
   "cell_type": "markdown",
   "id": "807c5403",
   "metadata": {},
   "source": [
    "**Action**\n",
    "\n",
    "Remove columns containing 0 unique values which imply that there is only 1 value in that column. This is not useful for\n",
    "analysis so these columns are removed. Further analysis is executed to check whether these columns contain NaN values."
   ]
  },
  {
   "cell_type": "code",
   "execution_count": 9,
   "id": "ca5d975a",
   "metadata": {},
   "outputs": [
    {
     "data": {
      "text/plain": [
       "id                            39717\n",
       "member_id                     39717\n",
       "loan_amnt                       885\n",
       "funded_amnt                    1041\n",
       "funded_amnt_inv                8205\n",
       "                              ...  \n",
       "tax_liens                         1\n",
       "tot_hi_cred_lim                   0\n",
       "total_bal_ex_mort                 0\n",
       "total_bc_limit                    0\n",
       "total_il_high_credit_limit        0\n",
       "Length: 84, dtype: int64"
      ]
     },
     "execution_count": 9,
     "metadata": {},
     "output_type": "execute_result"
    }
   ],
   "source": [
    "col0=inp0.nunique()\n",
    "col0"
   ]
  },
  {
   "cell_type": "code",
   "execution_count": 10,
   "id": "13be592c",
   "metadata": {},
   "outputs": [],
   "source": [
    "#column index with no values\n",
    "indices0 = [i for i in range(len(col0)) if col0[i] == 0]"
   ]
  },
  {
   "cell_type": "code",
   "execution_count": 11,
   "id": "73dcf212",
   "metadata": {},
   "outputs": [
    {
     "data": {
      "text/plain": [
       "Index(['mths_since_last_major_derog', 'annual_inc_joint', 'dti_joint',\n",
       "       'verification_status_joint', 'tot_coll_amt', 'tot_cur_bal',\n",
       "       'open_acc_6m', 'open_il_6m', 'open_il_12m', 'open_il_24m',\n",
       "       'mths_since_rcnt_il', 'total_bal_il', 'il_util', 'open_rv_12m',\n",
       "       'open_rv_24m', 'max_bal_bc', 'all_util', 'total_rev_hi_lim', 'inq_fi',\n",
       "       'total_cu_tl', 'inq_last_12m', 'acc_open_past_24mths', 'avg_cur_bal',\n",
       "       'bc_open_to_buy', 'bc_util', 'mo_sin_old_il_acct',\n",
       "       'mo_sin_old_rev_tl_op', 'mo_sin_rcnt_rev_tl_op', 'mo_sin_rcnt_tl',\n",
       "       'mort_acc', 'mths_since_recent_bc', 'mths_since_recent_bc_dlq',\n",
       "       'mths_since_recent_inq', 'mths_since_recent_revol_delinq',\n",
       "       'num_accts_ever_120_pd', 'num_actv_bc_tl', 'num_actv_rev_tl',\n",
       "       'num_bc_sats', 'num_bc_tl', 'num_il_tl', 'num_op_rev_tl',\n",
       "       'num_rev_accts', 'num_rev_tl_bal_gt_0', 'num_sats', 'num_tl_120dpd_2m',\n",
       "       'num_tl_30dpd', 'num_tl_90g_dpd_24m', 'num_tl_op_past_12m',\n",
       "       'pct_tl_nvr_dlq', 'percent_bc_gt_75', 'tot_hi_cred_lim',\n",
       "       'total_bal_ex_mort', 'total_bc_limit', 'total_il_high_credit_limit'],\n",
       "      dtype='object')"
      ]
     },
     "execution_count": 11,
     "metadata": {},
     "output_type": "execute_result"
    }
   ],
   "source": [
    "# reading the column header for the indices determined to have no unique values\n",
    "inp0.columns[indices0]"
   ]
  },
  {
   "cell_type": "markdown",
   "id": "47739fb3",
   "metadata": {},
   "source": [
    "**2.4 whether the data in the columns contain only NaN values**"
   ]
  },
  {
   "cell_type": "code",
   "execution_count": 12,
   "id": "22de2723",
   "metadata": {},
   "outputs": [
    {
     "name": "stdout",
     "output_type": "stream",
     "text": [
      "54\n"
     ]
    }
   ],
   "source": [
    "#checking if all the columns contain NaN\n",
    "na_check = [inp0[i].isna().sum()  for i in inp0.columns[indices0]]\n",
    "print(len(na_check))"
   ]
  },
  {
   "cell_type": "code",
   "execution_count": 13,
   "id": "15154120",
   "metadata": {},
   "outputs": [
    {
     "name": "stdout",
     "output_type": "stream",
     "text": [
      "54\n"
     ]
    }
   ],
   "source": [
    "#There are 54 rowss in na_check that contain the total number of NaNs in each column; now check whether all the rows in \n",
    "#these columns contain NaNs by comparing to total number of rows in data set which is 39717\n",
    "count = sum(map(lambda x : x== 39717, na_check))\n",
    "print(count)"
   ]
  },
  {
   "cell_type": "markdown",
   "id": "7ffc4867",
   "metadata": {},
   "source": [
    "**Action**\n",
    "\n",
    "The number of NaN values in the indices list for each column is the same as the number of rows present in the dataset.\n",
    "Therefore these columns only have NaN values and will be dropped as they do not add any value."
   ]
  },
  {
   "cell_type": "markdown",
   "id": "b495a70c",
   "metadata": {},
   "source": [
    "**2.5 whether the data in the columns is very unique**"
   ]
  },
  {
   "cell_type": "code",
   "execution_count": 14,
   "id": "4e04a77a",
   "metadata": {},
   "outputs": [],
   "source": [
    "def check_uniqueness(x):\n",
    "    return [i for i in range(len(col0)) if col0[i] == x]    "
   ]
  },
  {
   "cell_type": "code",
   "execution_count": 15,
   "id": "166526ed",
   "metadata": {},
   "outputs": [],
   "source": [
    "#unique values are unique for each row; empty indices for new operation\n",
    "indices0.extend(check_uniqueness(39717)) "
   ]
  },
  {
   "cell_type": "markdown",
   "id": "1f72ff29",
   "metadata": {},
   "source": [
    "**Action**<br>\n",
    "Columns with unique values for every row are **id** and **member_id** which can be dropped."
   ]
  },
  {
   "cell_type": "markdown",
   "id": "1ad18ea3",
   "metadata": {},
   "source": [
    "**2.6 whether the data contains only 1 unique value in each column**"
   ]
  },
  {
   "cell_type": "code",
   "execution_count": 16,
   "id": "cde83772",
   "metadata": {},
   "outputs": [],
   "source": [
    "# unique values are 1 for each row\n",
    "indices0.extend(check_uniqueness(1))"
   ]
  },
  {
   "cell_type": "code",
   "execution_count": 17,
   "id": "e25d591e",
   "metadata": {},
   "outputs": [
    {
     "data": {
      "text/plain": [
       "(39717, 84)"
      ]
     },
     "execution_count": 17,
     "metadata": {},
     "output_type": "execute_result"
    }
   ],
   "source": [
    "#confirming the number of columns present before dropping them\n",
    "inp0.shape"
   ]
  },
  {
   "cell_type": "code",
   "execution_count": 18,
   "id": "8f6e0da3",
   "metadata": {},
   "outputs": [
    {
     "data": {
      "text/plain": [
       "(39717, 21)"
      ]
     },
     "execution_count": 18,
     "metadata": {},
     "output_type": "execute_result"
    }
   ],
   "source": [
    "#new shape of the dataset\n",
    "inp0.drop(inp0.columns[indices0],axis=1, inplace=True)\n",
    "inp0.shape"
   ]
  },
  {
   "cell_type": "markdown",
   "id": "01c4a93e",
   "metadata": {},
   "source": [
    "**2.7 whether the data in the columns contain high percentage of Null & NaN values**"
   ]
  },
  {
   "cell_type": "code",
   "execution_count": 19,
   "id": "5ef320aa",
   "metadata": {},
   "outputs": [
    {
     "data": {
      "text/plain": [
       "loan_amnt                  0.0\n",
       "funded_amnt                0.0\n",
       "funded_amnt_inv            0.0\n",
       "term                       0.0\n",
       "int_rate                   0.0\n",
       "installment                0.0\n",
       "grade                      0.0\n",
       "sub_grade                  0.0\n",
       "emp_length                 2.7\n",
       "home_ownership             0.0\n",
       "annual_inc                 0.0\n",
       "verification_status        0.0\n",
       "issue_d                    0.0\n",
       "loan_status                0.0\n",
       "purpose                    0.0\n",
       "addr_state                 0.0\n",
       "dti                        0.0\n",
       "mths_since_last_delinq    64.7\n",
       "mths_since_last_record    93.0\n",
       "next_pymnt_d              97.1\n",
       "pub_rec_bankruptcies       1.8\n",
       "dtype: float64"
      ]
     },
     "execution_count": 19,
     "metadata": {},
     "output_type": "execute_result"
    }
   ],
   "source": [
    "round((inp0.isnull().sum()/len(inp0.index))*100,1)"
   ]
  },
  {
   "cell_type": "markdown",
   "id": "efc0b7c9",
   "metadata": {},
   "source": [
    "**Action**<br>\n",
    "Remove columns with null value percentage greater than 60% since these data will have no affect on prediction. Decision to replace them will be taken in Data Cleaning & Manipulation."
   ]
  },
  {
   "cell_type": "code",
   "execution_count": 20,
   "id": "d1e729ed",
   "metadata": {},
   "outputs": [
    {
     "data": {
      "text/plain": [
       "(39717, 18)"
      ]
     },
     "execution_count": 20,
     "metadata": {},
     "output_type": "execute_result"
    }
   ],
   "source": [
    "inp0.drop(['mths_since_last_delinq','mths_since_last_record','next_pymnt_d'],axis=1, inplace=True)\n",
    "inp0.shape"
   ]
  },
  {
   "cell_type": "code",
   "execution_count": 21,
   "id": "f8a5460e",
   "metadata": {},
   "outputs": [
    {
     "data": {
      "text/plain": [
       "loan_amnt               0.0\n",
       "funded_amnt             0.0\n",
       "funded_amnt_inv         0.0\n",
       "term                    0.0\n",
       "int_rate                0.0\n",
       "installment             0.0\n",
       "grade                   0.0\n",
       "sub_grade               0.0\n",
       "emp_length              2.7\n",
       "home_ownership          0.0\n",
       "annual_inc              0.0\n",
       "verification_status     0.0\n",
       "issue_d                 0.0\n",
       "loan_status             0.0\n",
       "purpose                 0.0\n",
       "addr_state              0.0\n",
       "dti                     0.0\n",
       "pub_rec_bankruptcies    1.8\n",
       "dtype: float64"
      ]
     },
     "execution_count": 21,
     "metadata": {},
     "output_type": "execute_result"
    }
   ],
   "source": [
    "round((inp0.isna().sum()/len(inp0.index))*100,1)"
   ]
  },
  {
   "cell_type": "markdown",
   "id": "fab6cf8a",
   "metadata": {},
   "source": [
    "**Action**<br>\n",
    "NaN values present in columns **emp_length** and **pub_rec_bankruptcies**, however their percentage isn't high. Decision to replace them will be taken in Data Cleaning & Manipulation<br>\n",
    "Outliers will be handled in Data Cleaning & Manipulation also."
   ]
  },
  {
   "cell_type": "markdown",
   "id": "0f65f6f7",
   "metadata": {},
   "source": [
    "**3. Determination & explanation of the columns that will act as driving factors to identify loans that may default**<br>\n",
    "description needed<br>\n",
    "1. loan_amt: <br>\n",
    "2. funded_amnt<br>\n",
    "3. funded_amnt_inv<br>\n",
    "4. term<br>\n",
    "5. int_rate<br>\n",
    "6. installment<br>\n",
    "7. grade<br>\n",
    "8. sub-grade<br>\n",
    "9. emp_length<br>\n",
    "10. home_ownership<br>\n",
    "11. verification_status<br>\n",
    "12. annual_inc<br>\n",
    "13. issue_d<br>\n",
    "14. loan_status<br>\n",
    "15. purpose<br>\n",
    "16. addr_state<br>\n",
    "17. dti<br>"
   ]
  },
  {
   "cell_type": "markdown",
   "id": "2222e7e1",
   "metadata": {},
   "source": [
    "**4. Remove the rows for which applications have already been approved**"
   ]
  },
  {
   "cell_type": "code",
   "execution_count": 22,
   "id": "e312babe",
   "metadata": {},
   "outputs": [
    {
     "data": {
      "text/plain": [
       "Fully Paid     32950\n",
       "Charged Off     5627\n",
       "Current         1140\n",
       "Name: loan_status, dtype: int64"
      ]
     },
     "execution_count": 22,
     "metadata": {},
     "output_type": "execute_result"
    }
   ],
   "source": [
    "#find all the possible values of loan status\n",
    "inp0.loan_status.value_counts()"
   ]
  },
  {
   "cell_type": "code",
   "execution_count": 23,
   "id": "8233cbb2",
   "metadata": {},
   "outputs": [
    {
     "data": {
      "text/plain": [
       "(38577, 18)"
      ]
     },
     "execution_count": 23,
     "metadata": {},
     "output_type": "execute_result"
    }
   ],
   "source": [
    "#remove all loan status which are current since they have already been approved; inp0 = checkpoint of stable dataset\n",
    "inp1 = inp0[~(inp0['loan_status'] == 'Current')]\n",
    "inp1.shape"
   ]
  },
  {
   "cell_type": "markdown",
   "id": "74599f87",
   "metadata": {},
   "source": [
    "**5. Identification of data quality issues such as removing spaces or removing special symbols like % or in general \n",
    "standardizing the data for EDA.**"
   ]
  },
  {
   "cell_type": "code",
   "execution_count": 24,
   "id": "ae6fc846",
   "metadata": {},
   "outputs": [
    {
     "data": {
      "text/html": [
       "<div>\n",
       "<style scoped>\n",
       "    .dataframe tbody tr th:only-of-type {\n",
       "        vertical-align: middle;\n",
       "    }\n",
       "\n",
       "    .dataframe tbody tr th {\n",
       "        vertical-align: top;\n",
       "    }\n",
       "\n",
       "    .dataframe thead th {\n",
       "        text-align: right;\n",
       "    }\n",
       "</style>\n",
       "<table border=\"1\" class=\"dataframe\">\n",
       "  <thead>\n",
       "    <tr style=\"text-align: right;\">\n",
       "      <th></th>\n",
       "      <th>loan_amnt</th>\n",
       "      <th>funded_amnt</th>\n",
       "      <th>funded_amnt_inv</th>\n",
       "      <th>term</th>\n",
       "      <th>int_rate</th>\n",
       "      <th>installment</th>\n",
       "      <th>grade</th>\n",
       "      <th>sub_grade</th>\n",
       "      <th>emp_length</th>\n",
       "      <th>home_ownership</th>\n",
       "      <th>annual_inc</th>\n",
       "      <th>verification_status</th>\n",
       "      <th>issue_d</th>\n",
       "      <th>loan_status</th>\n",
       "      <th>purpose</th>\n",
       "      <th>addr_state</th>\n",
       "      <th>dti</th>\n",
       "      <th>pub_rec_bankruptcies</th>\n",
       "    </tr>\n",
       "  </thead>\n",
       "  <tbody>\n",
       "    <tr>\n",
       "      <th>0</th>\n",
       "      <td>5000</td>\n",
       "      <td>5000</td>\n",
       "      <td>4975.0</td>\n",
       "      <td>36 months</td>\n",
       "      <td>10.65%</td>\n",
       "      <td>162.87</td>\n",
       "      <td>B</td>\n",
       "      <td>B2</td>\n",
       "      <td>10+ years</td>\n",
       "      <td>RENT</td>\n",
       "      <td>24000.0</td>\n",
       "      <td>Verified</td>\n",
       "      <td>Dec-11</td>\n",
       "      <td>Fully Paid</td>\n",
       "      <td>credit_card</td>\n",
       "      <td>AZ</td>\n",
       "      <td>27.65</td>\n",
       "      <td>0.0</td>\n",
       "    </tr>\n",
       "    <tr>\n",
       "      <th>1</th>\n",
       "      <td>2500</td>\n",
       "      <td>2500</td>\n",
       "      <td>2500.0</td>\n",
       "      <td>60 months</td>\n",
       "      <td>15.27%</td>\n",
       "      <td>59.83</td>\n",
       "      <td>C</td>\n",
       "      <td>C4</td>\n",
       "      <td>&lt; 1 year</td>\n",
       "      <td>RENT</td>\n",
       "      <td>30000.0</td>\n",
       "      <td>Source Verified</td>\n",
       "      <td>Dec-11</td>\n",
       "      <td>Charged Off</td>\n",
       "      <td>car</td>\n",
       "      <td>GA</td>\n",
       "      <td>1.00</td>\n",
       "      <td>0.0</td>\n",
       "    </tr>\n",
       "    <tr>\n",
       "      <th>2</th>\n",
       "      <td>2400</td>\n",
       "      <td>2400</td>\n",
       "      <td>2400.0</td>\n",
       "      <td>36 months</td>\n",
       "      <td>15.96%</td>\n",
       "      <td>84.33</td>\n",
       "      <td>C</td>\n",
       "      <td>C5</td>\n",
       "      <td>10+ years</td>\n",
       "      <td>RENT</td>\n",
       "      <td>12252.0</td>\n",
       "      <td>Not Verified</td>\n",
       "      <td>Dec-11</td>\n",
       "      <td>Fully Paid</td>\n",
       "      <td>small_business</td>\n",
       "      <td>IL</td>\n",
       "      <td>8.72</td>\n",
       "      <td>0.0</td>\n",
       "    </tr>\n",
       "    <tr>\n",
       "      <th>3</th>\n",
       "      <td>10000</td>\n",
       "      <td>10000</td>\n",
       "      <td>10000.0</td>\n",
       "      <td>36 months</td>\n",
       "      <td>13.49%</td>\n",
       "      <td>339.31</td>\n",
       "      <td>C</td>\n",
       "      <td>C1</td>\n",
       "      <td>10+ years</td>\n",
       "      <td>RENT</td>\n",
       "      <td>49200.0</td>\n",
       "      <td>Source Verified</td>\n",
       "      <td>Dec-11</td>\n",
       "      <td>Fully Paid</td>\n",
       "      <td>other</td>\n",
       "      <td>CA</td>\n",
       "      <td>20.00</td>\n",
       "      <td>0.0</td>\n",
       "    </tr>\n",
       "    <tr>\n",
       "      <th>5</th>\n",
       "      <td>5000</td>\n",
       "      <td>5000</td>\n",
       "      <td>5000.0</td>\n",
       "      <td>36 months</td>\n",
       "      <td>7.90%</td>\n",
       "      <td>156.46</td>\n",
       "      <td>A</td>\n",
       "      <td>A4</td>\n",
       "      <td>3 years</td>\n",
       "      <td>RENT</td>\n",
       "      <td>36000.0</td>\n",
       "      <td>Source Verified</td>\n",
       "      <td>Dec-11</td>\n",
       "      <td>Fully Paid</td>\n",
       "      <td>wedding</td>\n",
       "      <td>AZ</td>\n",
       "      <td>11.20</td>\n",
       "      <td>0.0</td>\n",
       "    </tr>\n",
       "  </tbody>\n",
       "</table>\n",
       "</div>"
      ],
      "text/plain": [
       "   loan_amnt  funded_amnt  funded_amnt_inv        term int_rate  installment  \\\n",
       "0       5000         5000           4975.0   36 months   10.65%       162.87   \n",
       "1       2500         2500           2500.0   60 months   15.27%        59.83   \n",
       "2       2400         2400           2400.0   36 months   15.96%        84.33   \n",
       "3      10000        10000          10000.0   36 months   13.49%       339.31   \n",
       "5       5000         5000           5000.0   36 months    7.90%       156.46   \n",
       "\n",
       "  grade sub_grade emp_length home_ownership  annual_inc verification_status  \\\n",
       "0     B        B2  10+ years           RENT     24000.0            Verified   \n",
       "1     C        C4   < 1 year           RENT     30000.0     Source Verified   \n",
       "2     C        C5  10+ years           RENT     12252.0        Not Verified   \n",
       "3     C        C1  10+ years           RENT     49200.0     Source Verified   \n",
       "5     A        A4    3 years           RENT     36000.0     Source Verified   \n",
       "\n",
       "  issue_d  loan_status         purpose addr_state    dti  pub_rec_bankruptcies  \n",
       "0  Dec-11   Fully Paid     credit_card         AZ  27.65                   0.0  \n",
       "1  Dec-11  Charged Off             car         GA   1.00                   0.0  \n",
       "2  Dec-11   Fully Paid  small_business         IL   8.72                   0.0  \n",
       "3  Dec-11   Fully Paid           other         CA  20.00                   0.0  \n",
       "5  Dec-11   Fully Paid         wedding         AZ  11.20                   0.0  "
      ]
     },
     "execution_count": 24,
     "metadata": {},
     "output_type": "execute_result"
    }
   ],
   "source": [
    "inp1.head()"
   ]
  },
  {
   "cell_type": "code",
   "execution_count": 25,
   "id": "48c38d0a",
   "metadata": {},
   "outputs": [
    {
     "name": "stdout",
     "output_type": "stream",
     "text": [
      "<class 'pandas.core.frame.DataFrame'>\n",
      "Int64Index: 38577 entries, 0 to 39716\n",
      "Data columns (total 18 columns):\n",
      " #   Column                Non-Null Count  Dtype  \n",
      "---  ------                --------------  -----  \n",
      " 0   loan_amnt             38577 non-null  int64  \n",
      " 1   funded_amnt           38577 non-null  int64  \n",
      " 2   funded_amnt_inv       38577 non-null  float64\n",
      " 3   term                  38577 non-null  object \n",
      " 4   int_rate              38577 non-null  object \n",
      " 5   installment           38577 non-null  float64\n",
      " 6   grade                 38577 non-null  object \n",
      " 7   sub_grade             38577 non-null  object \n",
      " 8   emp_length            37544 non-null  object \n",
      " 9   home_ownership        38577 non-null  object \n",
      " 10  annual_inc            38577 non-null  float64\n",
      " 11  verification_status   38577 non-null  object \n",
      " 12  issue_d               38577 non-null  object \n",
      " 13  loan_status           38577 non-null  object \n",
      " 14  purpose               38577 non-null  object \n",
      " 15  addr_state            38577 non-null  object \n",
      " 16  dti                   38577 non-null  float64\n",
      " 17  pub_rec_bankruptcies  37880 non-null  float64\n",
      "dtypes: float64(5), int64(2), object(11)\n",
      "memory usage: 5.6+ MB\n"
     ]
    }
   ],
   "source": [
    "inp1.info()"
   ]
  },
  {
   "cell_type": "code",
   "execution_count": 26,
   "id": "6787d896",
   "metadata": {},
   "outputs": [
    {
     "data": {
      "text/plain": [
       " 36 months    29096\n",
       " 60 months     9481\n",
       "Name: term, dtype: int64"
      ]
     },
     "execution_count": 26,
     "metadata": {},
     "output_type": "execute_result"
    }
   ],
   "source": [
    "inp1.term.value_counts()"
   ]
  },
  {
   "cell_type": "code",
   "execution_count": 27,
   "id": "3df2c6ca",
   "metadata": {},
   "outputs": [
    {
     "data": {
      "text/plain": [
       "10+ years    8488\n",
       "< 1 year     4508\n",
       "2 years      4291\n",
       "3 years      4012\n",
       "4 years      3342\n",
       "5 years      3194\n",
       "1 year       3169\n",
       "6 years      2168\n",
       "7 years      1711\n",
       "8 years      1435\n",
       "9 years      1226\n",
       "Name: emp_length, dtype: int64"
      ]
     },
     "execution_count": 27,
     "metadata": {},
     "output_type": "execute_result"
    }
   ],
   "source": [
    "inp1['emp_length'].value_counts()"
   ]
  },
  {
   "cell_type": "code",
   "execution_count": 28,
   "id": "7016249f",
   "metadata": {},
   "outputs": [
    {
     "data": {
      "text/plain": [
       "array([ 0.,  1.,  2., nan])"
      ]
     },
     "execution_count": 28,
     "metadata": {},
     "output_type": "execute_result"
    }
   ],
   "source": [
    "inp1['pub_rec_bankruptcies'].unique()"
   ]
  },
  {
   "cell_type": "code",
   "execution_count": 29,
   "id": "1d82eb64",
   "metadata": {},
   "outputs": [
    {
     "data": {
      "text/plain": [
       "0.0    36238\n",
       "1.0     1637\n",
       "2.0        5\n",
       "Name: pub_rec_bankruptcies, dtype: int64"
      ]
     },
     "execution_count": 29,
     "metadata": {},
     "output_type": "execute_result"
    }
   ],
   "source": [
    "inp1['pub_rec_bankruptcies'].value_counts()"
   ]
  },
  {
   "cell_type": "markdown",
   "id": "c4ae258d",
   "metadata": {},
   "source": [
    "**Data quality issues present in columns**\n",
    "1. term               : remove space before numerical value\n",
    "2. funded_amnt_inv    : convert to int64 since loan_amnt and funded_amnt are both integers\n",
    "3. int_rate           : remove % & convert to float\n",
    "4. sub_grade          : remove alphabets and convert to numerical value\n",
    "5. issue_d            : convert into 2 new columns for year and month; **derived metrics**\n",
    "6. ratioFINV          : new column to calculate the ratio of columns funded_amnt & funded_amnt_ivt; **derived metrics**\n",
    "7. annual_inc         : check for outliers\n",
    "8. emp_length         : replace the NaN values with mode of column<br>\n",
    "clarity required on pub_rec_bankruptcies"
   ]
  },
  {
   "cell_type": "markdown",
   "id": "3dad6dde",
   "metadata": {},
   "source": [
    "## Data Cleaning & Manipulation"
   ]
  },
  {
   "cell_type": "markdown",
   "id": "7aa5904b",
   "metadata": {},
   "source": [
    "**1. term : remove space before numerical value**"
   ]
  },
  {
   "cell_type": "code",
   "execution_count": 30,
   "id": "ea0a6a20",
   "metadata": {},
   "outputs": [
    {
     "data": {
      "text/plain": [
       "36 months    29096\n",
       "60 months     9481\n",
       "Name: term, dtype: int64"
      ]
     },
     "execution_count": 30,
     "metadata": {},
     "output_type": "execute_result"
    }
   ],
   "source": [
    "inp1.term = inp1.term.apply(lambda x : x.lstrip())\n",
    "inp1.term.value_counts()"
   ]
  },
  {
   "cell_type": "markdown",
   "id": "cc1726b0",
   "metadata": {},
   "source": [
    "**2. funded_amnt_inv : convert to int64 since loan_amnt and funded_amnt are both integers**"
   ]
  },
  {
   "cell_type": "code",
   "execution_count": 31,
   "id": "308d635d",
   "metadata": {},
   "outputs": [
    {
     "data": {
      "text/plain": [
       "dtype('int64')"
      ]
     },
     "execution_count": 31,
     "metadata": {},
     "output_type": "execute_result"
    }
   ],
   "source": [
    "inp1['funded_amnt_inv'] = inp1['funded_amnt_inv'].apply(lambda x : int(x))\n",
    "inp1['funded_amnt_inv'].dtypes"
   ]
  },
  {
   "cell_type": "markdown",
   "id": "8d2ca079",
   "metadata": {},
   "source": [
    "**3. int_rate : remove % & convert to float**"
   ]
  },
  {
   "cell_type": "code",
   "execution_count": 32,
   "id": "8ca7c8cc",
   "metadata": {},
   "outputs": [
    {
     "data": {
      "text/plain": [
       "dtype('float64')"
      ]
     },
     "execution_count": 32,
     "metadata": {},
     "output_type": "execute_result"
    }
   ],
   "source": [
    "inp1['int_rate'] = inp1['int_rate'].apply(lambda x : float(x.rstrip('%')) ) \n",
    "inp1['int_rate'].dtypes"
   ]
  },
  {
   "cell_type": "markdown",
   "id": "68e91732",
   "metadata": {},
   "source": [
    "**4. sub_grade : remove alphabets and convert to numerical value**"
   ]
  },
  {
   "cell_type": "code",
   "execution_count": 33,
   "id": "63f551a9",
   "metadata": {},
   "outputs": [
    {
     "data": {
      "text/plain": [
       "dtype('int64')"
      ]
     },
     "execution_count": 33,
     "metadata": {},
     "output_type": "execute_result"
    }
   ],
   "source": [
    "inp1['sub_grade'] = inp1['sub_grade'].apply(lambda x : int(x[-1]) ) \n",
    "inp1['sub_grade'].dtypes"
   ]
  },
  {
   "cell_type": "markdown",
   "id": "53f4dad1",
   "metadata": {},
   "source": [
    "**5. issue_d : convert into 2 new columns for year and month; derived metrics**"
   ]
  },
  {
   "cell_type": "code",
   "execution_count": 34,
   "id": "614a2446",
   "metadata": {},
   "outputs": [
    {
     "data": {
      "text/plain": [
       "(38577, 18)"
      ]
     },
     "execution_count": 34,
     "metadata": {},
     "output_type": "execute_result"
    }
   ],
   "source": [
    "inp2 = inp1.copy()\n",
    "inp2.shape"
   ]
  },
  {
   "cell_type": "code",
   "execution_count": 35,
   "id": "72ae2fdd",
   "metadata": {},
   "outputs": [],
   "source": [
    "inp2['Date'] = pd.to_datetime(inp2['issue_d'],format='%b-%y')"
   ]
  },
  {
   "cell_type": "code",
   "execution_count": 36,
   "id": "96f35345",
   "metadata": {},
   "outputs": [],
   "source": [
    "inp2['Month'] = inp2['Date'].dt.strftime('%b')"
   ]
  },
  {
   "cell_type": "code",
   "execution_count": 37,
   "id": "11172b0f",
   "metadata": {},
   "outputs": [
    {
     "data": {
      "text/html": [
       "<div>\n",
       "<style scoped>\n",
       "    .dataframe tbody tr th:only-of-type {\n",
       "        vertical-align: middle;\n",
       "    }\n",
       "\n",
       "    .dataframe tbody tr th {\n",
       "        vertical-align: top;\n",
       "    }\n",
       "\n",
       "    .dataframe thead th {\n",
       "        text-align: right;\n",
       "    }\n",
       "</style>\n",
       "<table border=\"1\" class=\"dataframe\">\n",
       "  <thead>\n",
       "    <tr style=\"text-align: right;\">\n",
       "      <th></th>\n",
       "      <th>loan_amnt</th>\n",
       "      <th>funded_amnt</th>\n",
       "      <th>funded_amnt_inv</th>\n",
       "      <th>term</th>\n",
       "      <th>int_rate</th>\n",
       "      <th>installment</th>\n",
       "      <th>grade</th>\n",
       "      <th>sub_grade</th>\n",
       "      <th>emp_length</th>\n",
       "      <th>home_ownership</th>\n",
       "      <th>...</th>\n",
       "      <th>verification_status</th>\n",
       "      <th>issue_d</th>\n",
       "      <th>loan_status</th>\n",
       "      <th>purpose</th>\n",
       "      <th>addr_state</th>\n",
       "      <th>dti</th>\n",
       "      <th>pub_rec_bankruptcies</th>\n",
       "      <th>Date</th>\n",
       "      <th>Month</th>\n",
       "      <th>Year</th>\n",
       "    </tr>\n",
       "  </thead>\n",
       "  <tbody>\n",
       "    <tr>\n",
       "      <th>0</th>\n",
       "      <td>5000</td>\n",
       "      <td>5000</td>\n",
       "      <td>4975</td>\n",
       "      <td>36 months</td>\n",
       "      <td>10.65</td>\n",
       "      <td>162.87</td>\n",
       "      <td>B</td>\n",
       "      <td>2</td>\n",
       "      <td>10+ years</td>\n",
       "      <td>RENT</td>\n",
       "      <td>...</td>\n",
       "      <td>Verified</td>\n",
       "      <td>Dec-11</td>\n",
       "      <td>Fully Paid</td>\n",
       "      <td>credit_card</td>\n",
       "      <td>AZ</td>\n",
       "      <td>27.65</td>\n",
       "      <td>0.0</td>\n",
       "      <td>2011-12-01</td>\n",
       "      <td>Dec</td>\n",
       "      <td>2011</td>\n",
       "    </tr>\n",
       "    <tr>\n",
       "      <th>1</th>\n",
       "      <td>2500</td>\n",
       "      <td>2500</td>\n",
       "      <td>2500</td>\n",
       "      <td>60 months</td>\n",
       "      <td>15.27</td>\n",
       "      <td>59.83</td>\n",
       "      <td>C</td>\n",
       "      <td>4</td>\n",
       "      <td>&lt; 1 year</td>\n",
       "      <td>RENT</td>\n",
       "      <td>...</td>\n",
       "      <td>Source Verified</td>\n",
       "      <td>Dec-11</td>\n",
       "      <td>Charged Off</td>\n",
       "      <td>car</td>\n",
       "      <td>GA</td>\n",
       "      <td>1.00</td>\n",
       "      <td>0.0</td>\n",
       "      <td>2011-12-01</td>\n",
       "      <td>Dec</td>\n",
       "      <td>2011</td>\n",
       "    </tr>\n",
       "    <tr>\n",
       "      <th>2</th>\n",
       "      <td>2400</td>\n",
       "      <td>2400</td>\n",
       "      <td>2400</td>\n",
       "      <td>36 months</td>\n",
       "      <td>15.96</td>\n",
       "      <td>84.33</td>\n",
       "      <td>C</td>\n",
       "      <td>5</td>\n",
       "      <td>10+ years</td>\n",
       "      <td>RENT</td>\n",
       "      <td>...</td>\n",
       "      <td>Not Verified</td>\n",
       "      <td>Dec-11</td>\n",
       "      <td>Fully Paid</td>\n",
       "      <td>small_business</td>\n",
       "      <td>IL</td>\n",
       "      <td>8.72</td>\n",
       "      <td>0.0</td>\n",
       "      <td>2011-12-01</td>\n",
       "      <td>Dec</td>\n",
       "      <td>2011</td>\n",
       "    </tr>\n",
       "    <tr>\n",
       "      <th>3</th>\n",
       "      <td>10000</td>\n",
       "      <td>10000</td>\n",
       "      <td>10000</td>\n",
       "      <td>36 months</td>\n",
       "      <td>13.49</td>\n",
       "      <td>339.31</td>\n",
       "      <td>C</td>\n",
       "      <td>1</td>\n",
       "      <td>10+ years</td>\n",
       "      <td>RENT</td>\n",
       "      <td>...</td>\n",
       "      <td>Source Verified</td>\n",
       "      <td>Dec-11</td>\n",
       "      <td>Fully Paid</td>\n",
       "      <td>other</td>\n",
       "      <td>CA</td>\n",
       "      <td>20.00</td>\n",
       "      <td>0.0</td>\n",
       "      <td>2011-12-01</td>\n",
       "      <td>Dec</td>\n",
       "      <td>2011</td>\n",
       "    </tr>\n",
       "    <tr>\n",
       "      <th>5</th>\n",
       "      <td>5000</td>\n",
       "      <td>5000</td>\n",
       "      <td>5000</td>\n",
       "      <td>36 months</td>\n",
       "      <td>7.90</td>\n",
       "      <td>156.46</td>\n",
       "      <td>A</td>\n",
       "      <td>4</td>\n",
       "      <td>3 years</td>\n",
       "      <td>RENT</td>\n",
       "      <td>...</td>\n",
       "      <td>Source Verified</td>\n",
       "      <td>Dec-11</td>\n",
       "      <td>Fully Paid</td>\n",
       "      <td>wedding</td>\n",
       "      <td>AZ</td>\n",
       "      <td>11.20</td>\n",
       "      <td>0.0</td>\n",
       "      <td>2011-12-01</td>\n",
       "      <td>Dec</td>\n",
       "      <td>2011</td>\n",
       "    </tr>\n",
       "  </tbody>\n",
       "</table>\n",
       "<p>5 rows × 21 columns</p>\n",
       "</div>"
      ],
      "text/plain": [
       "   loan_amnt  funded_amnt  funded_amnt_inv       term  int_rate  installment  \\\n",
       "0       5000         5000             4975  36 months     10.65       162.87   \n",
       "1       2500         2500             2500  60 months     15.27        59.83   \n",
       "2       2400         2400             2400  36 months     15.96        84.33   \n",
       "3      10000        10000            10000  36 months     13.49       339.31   \n",
       "5       5000         5000             5000  36 months      7.90       156.46   \n",
       "\n",
       "  grade  sub_grade emp_length home_ownership  ...  verification_status  \\\n",
       "0     B          2  10+ years           RENT  ...             Verified   \n",
       "1     C          4   < 1 year           RENT  ...      Source Verified   \n",
       "2     C          5  10+ years           RENT  ...         Not Verified   \n",
       "3     C          1  10+ years           RENT  ...      Source Verified   \n",
       "5     A          4    3 years           RENT  ...      Source Verified   \n",
       "\n",
       "  issue_d  loan_status         purpose addr_state    dti  \\\n",
       "0  Dec-11   Fully Paid     credit_card         AZ  27.65   \n",
       "1  Dec-11  Charged Off             car         GA   1.00   \n",
       "2  Dec-11   Fully Paid  small_business         IL   8.72   \n",
       "3  Dec-11   Fully Paid           other         CA  20.00   \n",
       "5  Dec-11   Fully Paid         wedding         AZ  11.20   \n",
       "\n",
       "   pub_rec_bankruptcies       Date Month  Year  \n",
       "0                   0.0 2011-12-01   Dec  2011  \n",
       "1                   0.0 2011-12-01   Dec  2011  \n",
       "2                   0.0 2011-12-01   Dec  2011  \n",
       "3                   0.0 2011-12-01   Dec  2011  \n",
       "5                   0.0 2011-12-01   Dec  2011  \n",
       "\n",
       "[5 rows x 21 columns]"
      ]
     },
     "execution_count": 37,
     "metadata": {},
     "output_type": "execute_result"
    }
   ],
   "source": [
    "inp2['Year'] = pd.DatetimeIndex(inp2['Date']).year\n",
    "inp2.head()"
   ]
  },
  {
   "cell_type": "code",
   "execution_count": 38,
   "id": "16e67e14",
   "metadata": {},
   "outputs": [
    {
     "data": {
      "text/plain": [
       "(38577, 19)"
      ]
     },
     "execution_count": 38,
     "metadata": {},
     "output_type": "execute_result"
    }
   ],
   "source": [
    "#dropping below columns since it has been broken down into useful information under derived metrics\n",
    "inp2.drop(['issue_d','Date'],axis=1, inplace=True)\n",
    "inp2.shape"
   ]
  },
  {
   "cell_type": "markdown",
   "id": "c87ace50",
   "metadata": {},
   "source": [
    "**6. ratioFINV : new column to calculate the ratio of columns funded_amnt & funded_amnt_ivt; derived metrics**"
   ]
  },
  {
   "cell_type": "code",
   "execution_count": 39,
   "id": "9785c7fc",
   "metadata": {},
   "outputs": [
    {
     "data": {
      "text/html": [
       "<div>\n",
       "<style scoped>\n",
       "    .dataframe tbody tr th:only-of-type {\n",
       "        vertical-align: middle;\n",
       "    }\n",
       "\n",
       "    .dataframe tbody tr th {\n",
       "        vertical-align: top;\n",
       "    }\n",
       "\n",
       "    .dataframe thead th {\n",
       "        text-align: right;\n",
       "    }\n",
       "</style>\n",
       "<table border=\"1\" class=\"dataframe\">\n",
       "  <thead>\n",
       "    <tr style=\"text-align: right;\">\n",
       "      <th></th>\n",
       "      <th>loan_amnt</th>\n",
       "      <th>funded_amnt</th>\n",
       "      <th>funded_amnt_inv</th>\n",
       "      <th>term</th>\n",
       "      <th>int_rate</th>\n",
       "      <th>installment</th>\n",
       "      <th>grade</th>\n",
       "      <th>sub_grade</th>\n",
       "      <th>emp_length</th>\n",
       "      <th>home_ownership</th>\n",
       "      <th>annual_inc</th>\n",
       "      <th>verification_status</th>\n",
       "      <th>loan_status</th>\n",
       "      <th>purpose</th>\n",
       "      <th>addr_state</th>\n",
       "      <th>dti</th>\n",
       "      <th>pub_rec_bankruptcies</th>\n",
       "      <th>Month</th>\n",
       "      <th>Year</th>\n",
       "      <th>ratioFINV</th>\n",
       "    </tr>\n",
       "  </thead>\n",
       "  <tbody>\n",
       "    <tr>\n",
       "      <th>0</th>\n",
       "      <td>5000</td>\n",
       "      <td>5000</td>\n",
       "      <td>4975</td>\n",
       "      <td>36 months</td>\n",
       "      <td>10.65</td>\n",
       "      <td>162.87</td>\n",
       "      <td>B</td>\n",
       "      <td>2</td>\n",
       "      <td>10+ years</td>\n",
       "      <td>RENT</td>\n",
       "      <td>24000.0</td>\n",
       "      <td>Verified</td>\n",
       "      <td>Fully Paid</td>\n",
       "      <td>credit_card</td>\n",
       "      <td>AZ</td>\n",
       "      <td>27.65</td>\n",
       "      <td>0.0</td>\n",
       "      <td>Dec</td>\n",
       "      <td>2011</td>\n",
       "      <td>99.5</td>\n",
       "    </tr>\n",
       "    <tr>\n",
       "      <th>1</th>\n",
       "      <td>2500</td>\n",
       "      <td>2500</td>\n",
       "      <td>2500</td>\n",
       "      <td>60 months</td>\n",
       "      <td>15.27</td>\n",
       "      <td>59.83</td>\n",
       "      <td>C</td>\n",
       "      <td>4</td>\n",
       "      <td>&lt; 1 year</td>\n",
       "      <td>RENT</td>\n",
       "      <td>30000.0</td>\n",
       "      <td>Source Verified</td>\n",
       "      <td>Charged Off</td>\n",
       "      <td>car</td>\n",
       "      <td>GA</td>\n",
       "      <td>1.00</td>\n",
       "      <td>0.0</td>\n",
       "      <td>Dec</td>\n",
       "      <td>2011</td>\n",
       "      <td>100.0</td>\n",
       "    </tr>\n",
       "    <tr>\n",
       "      <th>2</th>\n",
       "      <td>2400</td>\n",
       "      <td>2400</td>\n",
       "      <td>2400</td>\n",
       "      <td>36 months</td>\n",
       "      <td>15.96</td>\n",
       "      <td>84.33</td>\n",
       "      <td>C</td>\n",
       "      <td>5</td>\n",
       "      <td>10+ years</td>\n",
       "      <td>RENT</td>\n",
       "      <td>12252.0</td>\n",
       "      <td>Not Verified</td>\n",
       "      <td>Fully Paid</td>\n",
       "      <td>small_business</td>\n",
       "      <td>IL</td>\n",
       "      <td>8.72</td>\n",
       "      <td>0.0</td>\n",
       "      <td>Dec</td>\n",
       "      <td>2011</td>\n",
       "      <td>100.0</td>\n",
       "    </tr>\n",
       "    <tr>\n",
       "      <th>3</th>\n",
       "      <td>10000</td>\n",
       "      <td>10000</td>\n",
       "      <td>10000</td>\n",
       "      <td>36 months</td>\n",
       "      <td>13.49</td>\n",
       "      <td>339.31</td>\n",
       "      <td>C</td>\n",
       "      <td>1</td>\n",
       "      <td>10+ years</td>\n",
       "      <td>RENT</td>\n",
       "      <td>49200.0</td>\n",
       "      <td>Source Verified</td>\n",
       "      <td>Fully Paid</td>\n",
       "      <td>other</td>\n",
       "      <td>CA</td>\n",
       "      <td>20.00</td>\n",
       "      <td>0.0</td>\n",
       "      <td>Dec</td>\n",
       "      <td>2011</td>\n",
       "      <td>100.0</td>\n",
       "    </tr>\n",
       "    <tr>\n",
       "      <th>5</th>\n",
       "      <td>5000</td>\n",
       "      <td>5000</td>\n",
       "      <td>5000</td>\n",
       "      <td>36 months</td>\n",
       "      <td>7.90</td>\n",
       "      <td>156.46</td>\n",
       "      <td>A</td>\n",
       "      <td>4</td>\n",
       "      <td>3 years</td>\n",
       "      <td>RENT</td>\n",
       "      <td>36000.0</td>\n",
       "      <td>Source Verified</td>\n",
       "      <td>Fully Paid</td>\n",
       "      <td>wedding</td>\n",
       "      <td>AZ</td>\n",
       "      <td>11.20</td>\n",
       "      <td>0.0</td>\n",
       "      <td>Dec</td>\n",
       "      <td>2011</td>\n",
       "      <td>100.0</td>\n",
       "    </tr>\n",
       "  </tbody>\n",
       "</table>\n",
       "</div>"
      ],
      "text/plain": [
       "   loan_amnt  funded_amnt  funded_amnt_inv       term  int_rate  installment  \\\n",
       "0       5000         5000             4975  36 months     10.65       162.87   \n",
       "1       2500         2500             2500  60 months     15.27        59.83   \n",
       "2       2400         2400             2400  36 months     15.96        84.33   \n",
       "3      10000        10000            10000  36 months     13.49       339.31   \n",
       "5       5000         5000             5000  36 months      7.90       156.46   \n",
       "\n",
       "  grade  sub_grade emp_length home_ownership  annual_inc verification_status  \\\n",
       "0     B          2  10+ years           RENT     24000.0            Verified   \n",
       "1     C          4   < 1 year           RENT     30000.0     Source Verified   \n",
       "2     C          5  10+ years           RENT     12252.0        Not Verified   \n",
       "3     C          1  10+ years           RENT     49200.0     Source Verified   \n",
       "5     A          4    3 years           RENT     36000.0     Source Verified   \n",
       "\n",
       "   loan_status         purpose addr_state    dti  pub_rec_bankruptcies Month  \\\n",
       "0   Fully Paid     credit_card         AZ  27.65                   0.0   Dec   \n",
       "1  Charged Off             car         GA   1.00                   0.0   Dec   \n",
       "2   Fully Paid  small_business         IL   8.72                   0.0   Dec   \n",
       "3   Fully Paid           other         CA  20.00                   0.0   Dec   \n",
       "5   Fully Paid         wedding         AZ  11.20                   0.0   Dec   \n",
       "\n",
       "   Year  ratioFINV  \n",
       "0  2011       99.5  \n",
       "1  2011      100.0  \n",
       "2  2011      100.0  \n",
       "3  2011      100.0  \n",
       "5  2011      100.0  "
      ]
     },
     "execution_count": 39,
     "metadata": {},
     "output_type": "execute_result"
    }
   ],
   "source": [
    "inp2['ratioFINV'] = inp2.apply(lambda x : round ( ( ( x['funded_amnt_inv'] * 100 ) / x['funded_amnt'] ),2 ),axis=1)\n",
    "inp2.head()"
   ]
  },
  {
   "cell_type": "markdown",
   "id": "c8a667cd",
   "metadata": {},
   "source": [
    "**7. annual_inc : check for outliers**"
   ]
  },
  {
   "cell_type": "code",
   "execution_count": 40,
   "id": "fc9a0885",
   "metadata": {},
   "outputs": [
    {
     "data": {
      "text/html": [
       "<div>\n",
       "<style scoped>\n",
       "    .dataframe tbody tr th:only-of-type {\n",
       "        vertical-align: middle;\n",
       "    }\n",
       "\n",
       "    .dataframe tbody tr th {\n",
       "        vertical-align: top;\n",
       "    }\n",
       "\n",
       "    .dataframe thead th {\n",
       "        text-align: right;\n",
       "    }\n",
       "</style>\n",
       "<table border=\"1\" class=\"dataframe\">\n",
       "  <thead>\n",
       "    <tr style=\"text-align: right;\">\n",
       "      <th></th>\n",
       "      <th>loan_amnt</th>\n",
       "      <th>funded_amnt</th>\n",
       "      <th>funded_amnt_inv</th>\n",
       "      <th>int_rate</th>\n",
       "      <th>installment</th>\n",
       "      <th>sub_grade</th>\n",
       "      <th>annual_inc</th>\n",
       "      <th>dti</th>\n",
       "      <th>pub_rec_bankruptcies</th>\n",
       "      <th>Year</th>\n",
       "      <th>ratioFINV</th>\n",
       "    </tr>\n",
       "  </thead>\n",
       "  <tbody>\n",
       "    <tr>\n",
       "      <th>count</th>\n",
       "      <td>38577.000000</td>\n",
       "      <td>38577.000000</td>\n",
       "      <td>38577.000000</td>\n",
       "      <td>38577.000000</td>\n",
       "      <td>38577.000000</td>\n",
       "      <td>38577.000000</td>\n",
       "      <td>3.857700e+04</td>\n",
       "      <td>38577.000000</td>\n",
       "      <td>37880.000000</td>\n",
       "      <td>38577.000000</td>\n",
       "      <td>38577.000000</td>\n",
       "    </tr>\n",
       "    <tr>\n",
       "      <th>mean</th>\n",
       "      <td>11047.025430</td>\n",
       "      <td>10784.058506</td>\n",
       "      <td>10222.392332</td>\n",
       "      <td>11.932219</td>\n",
       "      <td>322.466318</td>\n",
       "      <td>3.052389</td>\n",
       "      <td>6.877797e+04</td>\n",
       "      <td>13.272727</td>\n",
       "      <td>0.043479</td>\n",
       "      <td>2010.309070</td>\n",
       "      <td>94.985951</td>\n",
       "    </tr>\n",
       "    <tr>\n",
       "      <th>std</th>\n",
       "      <td>7348.441646</td>\n",
       "      <td>7090.306027</td>\n",
       "      <td>7022.699340</td>\n",
       "      <td>3.691327</td>\n",
       "      <td>208.639215</td>\n",
       "      <td>1.395903</td>\n",
       "      <td>6.421868e+04</td>\n",
       "      <td>6.673044</td>\n",
       "      <td>0.204583</td>\n",
       "      <td>0.882658</td>\n",
       "      <td>16.172129</td>\n",
       "    </tr>\n",
       "    <tr>\n",
       "      <th>min</th>\n",
       "      <td>500.000000</td>\n",
       "      <td>500.000000</td>\n",
       "      <td>0.000000</td>\n",
       "      <td>5.420000</td>\n",
       "      <td>15.690000</td>\n",
       "      <td>1.000000</td>\n",
       "      <td>4.000000e+03</td>\n",
       "      <td>0.000000</td>\n",
       "      <td>0.000000</td>\n",
       "      <td>2007.000000</td>\n",
       "      <td>0.000000</td>\n",
       "    </tr>\n",
       "    <tr>\n",
       "      <th>25%</th>\n",
       "      <td>5300.000000</td>\n",
       "      <td>5200.000000</td>\n",
       "      <td>5000.000000</td>\n",
       "      <td>8.940000</td>\n",
       "      <td>165.740000</td>\n",
       "      <td>2.000000</td>\n",
       "      <td>4.000000e+04</td>\n",
       "      <td>8.130000</td>\n",
       "      <td>0.000000</td>\n",
       "      <td>2010.000000</td>\n",
       "      <td>98.610000</td>\n",
       "    </tr>\n",
       "    <tr>\n",
       "      <th>50%</th>\n",
       "      <td>9600.000000</td>\n",
       "      <td>9550.000000</td>\n",
       "      <td>8733.000000</td>\n",
       "      <td>11.710000</td>\n",
       "      <td>277.860000</td>\n",
       "      <td>3.000000</td>\n",
       "      <td>5.886800e+04</td>\n",
       "      <td>13.370000</td>\n",
       "      <td>0.000000</td>\n",
       "      <td>2011.000000</td>\n",
       "      <td>100.000000</td>\n",
       "    </tr>\n",
       "    <tr>\n",
       "      <th>75%</th>\n",
       "      <td>15000.000000</td>\n",
       "      <td>15000.000000</td>\n",
       "      <td>14000.000000</td>\n",
       "      <td>14.380000</td>\n",
       "      <td>425.550000</td>\n",
       "      <td>4.000000</td>\n",
       "      <td>8.200000e+04</td>\n",
       "      <td>18.560000</td>\n",
       "      <td>0.000000</td>\n",
       "      <td>2011.000000</td>\n",
       "      <td>100.000000</td>\n",
       "    </tr>\n",
       "    <tr>\n",
       "      <th>max</th>\n",
       "      <td>35000.000000</td>\n",
       "      <td>35000.000000</td>\n",
       "      <td>35000.000000</td>\n",
       "      <td>24.400000</td>\n",
       "      <td>1305.190000</td>\n",
       "      <td>5.000000</td>\n",
       "      <td>6.000000e+06</td>\n",
       "      <td>29.990000</td>\n",
       "      <td>2.000000</td>\n",
       "      <td>2011.000000</td>\n",
       "      <td>100.000000</td>\n",
       "    </tr>\n",
       "  </tbody>\n",
       "</table>\n",
       "</div>"
      ],
      "text/plain": [
       "          loan_amnt   funded_amnt  funded_amnt_inv      int_rate  \\\n",
       "count  38577.000000  38577.000000     38577.000000  38577.000000   \n",
       "mean   11047.025430  10784.058506     10222.392332     11.932219   \n",
       "std     7348.441646   7090.306027      7022.699340      3.691327   \n",
       "min      500.000000    500.000000         0.000000      5.420000   \n",
       "25%     5300.000000   5200.000000      5000.000000      8.940000   \n",
       "50%     9600.000000   9550.000000      8733.000000     11.710000   \n",
       "75%    15000.000000  15000.000000     14000.000000     14.380000   \n",
       "max    35000.000000  35000.000000     35000.000000     24.400000   \n",
       "\n",
       "        installment     sub_grade    annual_inc           dti  \\\n",
       "count  38577.000000  38577.000000  3.857700e+04  38577.000000   \n",
       "mean     322.466318      3.052389  6.877797e+04     13.272727   \n",
       "std      208.639215      1.395903  6.421868e+04      6.673044   \n",
       "min       15.690000      1.000000  4.000000e+03      0.000000   \n",
       "25%      165.740000      2.000000  4.000000e+04      8.130000   \n",
       "50%      277.860000      3.000000  5.886800e+04     13.370000   \n",
       "75%      425.550000      4.000000  8.200000e+04     18.560000   \n",
       "max     1305.190000      5.000000  6.000000e+06     29.990000   \n",
       "\n",
       "       pub_rec_bankruptcies          Year     ratioFINV  \n",
       "count          37880.000000  38577.000000  38577.000000  \n",
       "mean               0.043479   2010.309070     94.985951  \n",
       "std                0.204583      0.882658     16.172129  \n",
       "min                0.000000   2007.000000      0.000000  \n",
       "25%                0.000000   2010.000000     98.610000  \n",
       "50%                0.000000   2011.000000    100.000000  \n",
       "75%                0.000000   2011.000000    100.000000  \n",
       "max                2.000000   2011.000000    100.000000  "
      ]
     },
     "execution_count": 40,
     "metadata": {},
     "output_type": "execute_result"
    }
   ],
   "source": [
    "inp2.describe()"
   ]
  },
  {
   "cell_type": "markdown",
   "id": "bdb546d4",
   "metadata": {},
   "source": [
    "**Action**<br>\n",
    "Wide variation seen in the statistics of column **annual_inc**. plot boxplot to find outliers to remove"
   ]
  },
  {
   "cell_type": "code",
   "execution_count": 41,
   "id": "108e28ec",
   "metadata": {},
   "outputs": [
    {
     "data": {
      "image/png": "[encoded data removed]",
      "text/plain": [
       "<Figure size 640x480 with 1 Axes>"
      ]
     },
     "metadata": {},
     "output_type": "display_data"
    }
   ],
   "source": [
    "plt.title('Determination of outliers in Annual income',fontdict={'fontsize':16,'fontweight':5,'color':'Green'})\n",
    "\n",
    "plt.ylabel(\"Annual Income Range\", fontdict={'fontsize':12,'fontweight':5,'color':'Green'})\n",
    "\n",
    "#ticks for annual income range in Million\n",
    "ticks = np.arange(0,7000000,1000000)\n",
    "labels = [\"{}M\".format(i//1000000) for i in ticks]\n",
    "plt.yticks(ticks,labels)\n",
    "\n",
    "plt.boxplot(inp2['annual_inc'])\n",
    "\n",
    "plt.show()"
   ]
  },
  {
   "cell_type": "code",
   "execution_count": 42,
   "id": "1d2a8c7c",
   "metadata": {},
   "outputs": [
    {
     "data": {
      "text/plain": [
       "0.50     58868.0\n",
       "0.75     82000.0\n",
       "0.90    115000.0\n",
       "0.95    140004.0\n",
       "0.97    165000.0\n",
       "0.98    187000.0\n",
       "0.99    234144.0\n",
       "Name: annual_inc, dtype: float64"
      ]
     },
     "execution_count": 42,
     "metadata": {},
     "output_type": "execute_result"
    }
   ],
   "source": [
    "inp2.annual_inc.quantile([0.5, 0.75,0.90, 0.95, 0.97,0.98, 0.99])"
   ]
  },
  {
   "cell_type": "markdown",
   "id": "15f42fd7",
   "metadata": {},
   "source": [
    "**Observations**<br>\n",
    "Majority of the data set on annual income is within 150,000. Clearly there are outliers after 150,000. <br>\n",
    "\n",
    "**Action**<br>\n",
    "Determine how many rows belong to the outliers and decide whether to drop them."
   ]
  },
  {
   "cell_type": "code",
   "execution_count": 43,
   "id": "01670f42",
   "metadata": {},
   "outputs": [],
   "source": [
    "#store data in a dataset to figure out whether to drop them; also later on during EDA to check if they get high loans\n",
    "inp3 = inp2[inp2['annual_inc'] >= 150000]"
   ]
  },
  {
   "cell_type": "code",
   "execution_count": 44,
   "id": "aa5f36fb",
   "metadata": {},
   "outputs": [
    {
     "data": {
      "text/plain": [
       "Fully Paid     1520\n",
       "Charged Off     189\n",
       "Name: loan_status, dtype: int64"
      ]
     },
     "execution_count": 44,
     "metadata": {},
     "output_type": "execute_result"
    }
   ],
   "source": [
    "inp3['loan_status'].value_counts()"
   ]
  },
  {
   "cell_type": "markdown",
   "id": "343fa95c",
   "metadata": {},
   "source": [
    "**Observation**<br>\n",
    "Majority of the applicants are Fully Paid. Based on this dataset, applicants who have higher annual income tend to \n",
    "fully pay off their loans.<br>\n",
    "**Action**<br>\n",
    "Remove these outliers to focus on where majority of the applicant's annual income lie within."
   ]
  },
  {
   "cell_type": "code",
   "execution_count": 45,
   "id": "2470ddb3",
   "metadata": {},
   "outputs": [
    {
     "data": {
      "text/plain": [
       "(36868, 20)"
      ]
     },
     "execution_count": 45,
     "metadata": {},
     "output_type": "execute_result"
    }
   ],
   "source": [
    "inp4 = inp2[~(inp2['annual_inc'] >= 150000)]\n",
    "inp4.shape"
   ]
  },
  {
   "cell_type": "code",
   "execution_count": 46,
   "id": "2f6a20b7",
   "metadata": {},
   "outputs": [
    {
     "data": {
      "text/plain": [
       "count     36868.000000\n",
       "mean      61342.057632\n",
       "std       28392.630881\n",
       "min        4000.000000\n",
       "25%       40000.000000\n",
       "50%       56000.020000\n",
       "75%       78000.000000\n",
       "max      149981.000000\n",
       "Name: annual_inc, dtype: float64"
      ]
     },
     "execution_count": 46,
     "metadata": {},
     "output_type": "execute_result"
    }
   ],
   "source": [
    "inp4['annual_inc'].describe()"
   ]
  },
  {
   "cell_type": "code",
   "execution_count": 67,
   "id": "dae6f09e",
   "metadata": {},
   "outputs": [
    {
     "data": {
      "image/png": "[encoded data removed]",
      "text/plain": [
       "<Figure size 640x480 with 1 Axes>"
      ]
     },
     "metadata": {},
     "output_type": "display_data"
    }
   ],
   "source": [
    "#plot the boxplot again\n",
    "plt.title('Determination of outliers in Annual income',fontdict={'fontsize':16,'fontweight':5,'color':'Magenta'})\n",
    "plt.ylabel(\"Annual Income Range\", fontdict={'fontsize':12,'fontweight':5,'color':'Green'})\n",
    "plt.boxplot(inp4['annual_inc'])\n",
    "plt.show()"
   ]
  },
  {
   "cell_type": "markdown",
   "id": "84947071",
   "metadata": {},
   "source": [
    "**8. emp_length : replace the NaN values with mode of column**"
   ]
  },
  {
   "cell_type": "code",
   "execution_count": 48,
   "id": "ba12d7d4",
   "metadata": {},
   "outputs": [
    {
     "data": {
      "text/plain": [
       "array(['10+ years', '< 1 year', '3 years', '8 years', '9 years',\n",
       "       '4 years', '5 years', '1 year', '6 years', '2 years', '7 years',\n",
       "       nan], dtype=object)"
      ]
     },
     "execution_count": 48,
     "metadata": {},
     "output_type": "execute_result"
    }
   ],
   "source": [
    "inp4['emp_length'].unique()"
   ]
  },
  {
   "cell_type": "code",
   "execution_count": 49,
   "id": "7be478e0",
   "metadata": {},
   "outputs": [
    {
     "data": {
      "text/plain": [
       "0    10+ years\n",
       "Name: emp_length, dtype: object"
      ]
     },
     "execution_count": 49,
     "metadata": {},
     "output_type": "execute_result"
    }
   ],
   "source": [
    "inp4['emp_length'].mode()"
   ]
  },
  {
   "cell_type": "code",
   "execution_count": 50,
   "id": "e2d7ea2f",
   "metadata": {},
   "outputs": [
    {
     "name": "stdout",
     "output_type": "stream",
     "text": [
      "NaN present:  0\n",
      "Null present:  0\n"
     ]
    }
   ],
   "source": [
    "inp4['emp_length'].fillna(inp4['emp_length'].mode()[0],inplace=True)\n",
    "print(\"NaN present: \", inp4['emp_length'].isna().sum())\n",
    "print(\"Null present: \", inp4['emp_length'].isnull().sum())"
   ]
  },
  {
   "cell_type": "code",
   "execution_count": 51,
   "id": "3c669c1a",
   "metadata": {},
   "outputs": [
    {
     "name": "stdout",
     "output_type": "stream",
     "text": [
      "<class 'pandas.core.frame.DataFrame'>\n",
      "Int64Index: 36868 entries, 0 to 39716\n",
      "Data columns (total 20 columns):\n",
      " #   Column                Non-Null Count  Dtype  \n",
      "---  ------                --------------  -----  \n",
      " 0   loan_amnt             36868 non-null  int64  \n",
      " 1   funded_amnt           36868 non-null  int64  \n",
      " 2   funded_amnt_inv       36868 non-null  int64  \n",
      " 3   term                  36868 non-null  object \n",
      " 4   int_rate              36868 non-null  float64\n",
      " 5   installment           36868 non-null  float64\n",
      " 6   grade                 36868 non-null  object \n",
      " 7   sub_grade             36868 non-null  int64  \n",
      " 8   emp_length            36868 non-null  object \n",
      " 9   home_ownership        36868 non-null  object \n",
      " 10  annual_inc            36868 non-null  float64\n",
      " 11  verification_status   36868 non-null  object \n",
      " 12  loan_status           36868 non-null  object \n",
      " 13  purpose               36868 non-null  object \n",
      " 14  addr_state            36868 non-null  object \n",
      " 15  dti                   36868 non-null  float64\n",
      " 16  pub_rec_bankruptcies  36206 non-null  float64\n",
      " 17  Month                 36868 non-null  object \n",
      " 18  Year                  36868 non-null  int64  \n",
      " 19  ratioFINV             36868 non-null  float64\n",
      "dtypes: float64(6), int64(5), object(9)\n",
      "memory usage: 5.9+ MB\n"
     ]
    }
   ],
   "source": [
    "inp4.info()"
   ]
  },
  {
   "cell_type": "markdown",
   "id": "fbc4811b",
   "metadata": {},
   "source": [
    "**Observation**<br>\n",
    "No Null or NaN values present in any column. All data cleaning and manipulation is now complete. \n",
    "!! check whether pub_rec_bankruptcies is needed"
   ]
  },
  {
   "cell_type": "markdown",
   "id": "25b20b9c",
   "metadata": {},
   "source": [
    "## Data Analysis"
   ]
  },
  {
   "cell_type": "markdown",
   "id": "155a28ac",
   "metadata": {},
   "source": [
    "### Univariate analysis<br>\n",
    "\n",
    "Columns to focus on:<br>\n",
    "1. home_ownership : unordered categorical variables<br>\n",
    "2. grade : ordered categorical variables<br>\n",
    "3. term: ordered categorical variables<br>\n",
    "4. funded_amnt_inv: continuous numerical variables"
   ]
  },
  {
   "cell_type": "markdown",
   "id": "d0f97e1f",
   "metadata": {},
   "source": [
    "**1. home_ownership : how many applications fall under each category of home_ownership**"
   ]
  },
  {
   "cell_type": "code",
   "execution_count": 102,
   "id": "71d8ce6c",
   "metadata": {},
   "outputs": [
    {
     "data": {
      "image/png": "[encoded data removed]",
      "text/plain": [
       "<Figure size 600x600 with 1 Axes>"
      ]
     },
     "metadata": {},
     "output_type": "display_data"
    }
   ],
   "source": [
    "plt.figure(figsize=(6,6))\n",
    "plt.title(\"Number of applicants based on Status of the Home Ownership\",fontdict={'fontsize':14,'fontweight':5,\n",
    "                                                                                 'color':'Magenta'})\n",
    "sns.countplot(data=inp4, x='home_ownership',palette='twilight_r')\n",
    "plt.xlabel(\"Home ownership status\",fontdict={'fontsize':12,'fontweight':5,'color':'Green'})\n",
    "plt.ylabel(\"Number of applicants\",fontdict={'fontsize':12,'fontweight':5,'color':'Green'})\n",
    "plt.show()"
   ]
  },
  {
   "cell_type": "markdown",
   "id": "5a530263",
   "metadata": {},
   "source": [
    "**Observation**<br>\n",
    "A large number of loan applicants were on Rent or were paying Mortgage on their houses implying that many applications in the future would come from such profiles. Candidates who own their houses do not generally apply for loans that frequently. For some candidates, the status of their residence could not be determined but since the data is neglible, they can be ignored. "
   ]
  },
  {
   "cell_type": "markdown",
   "id": "2020cb54",
   "metadata": {},
   "source": [
    "**2. grade : under what grades did most of the candidate's loans fall under**"
   ]
  },
  {
   "cell_type": "code",
   "execution_count": 100,
   "id": "378551cf",
   "metadata": {},
   "outputs": [
    {
     "data": {
      "image/png": "[encoded data removed]",
      "text/plain": [
       "<Figure size 400x400 with 1 Axes>"
      ]
     },
     "metadata": {},
     "output_type": "display_data"
    }
   ],
   "source": [
    "plt.figure(figsize=(4,4))\n",
    "plt.title(\"Number of applicants based on Grades assigned\",fontdict={'fontsize':14,'fontweight':5,\n",
    "                                                                                 'color':'Magenta'})\n",
    "sns.countplot(data=inp4, x='grade',order=['A','B','C','D','E','F','G'], palette=\"autumn_r\")\n",
    "plt.xlabel(\"Grades\",fontdict={'fontsize':12,'fontweight':5,'color':'Green'})\n",
    "plt.ylabel(\"Number of applicants\",fontdict={'fontsize':12,'fontweight':5,'color':'Green'})\n",
    "plt.show()"
   ]
  },
  {
   "cell_type": "markdown",
   "id": "a5ea25b8",
   "metadata": {},
   "source": [
    "**Observation**<br>\n",
    "Majority of the loans belonged to the grades B and A in order. "
   ]
  },
  {
   "cell_type": "markdown",
   "id": "74bdd331",
   "metadata": {},
   "source": [
    "**3. term : how many applicants belonged to each term**"
   ]
  },
  {
   "cell_type": "code",
   "execution_count": 98,
   "id": "08fb551a",
   "metadata": {},
   "outputs": [
    {
     "data": {
      "image/png": "[encoded data removed]",
      "text/plain": [
       "<Figure size 400x400 with 1 Axes>"
      ]
     },
     "metadata": {},
     "output_type": "display_data"
    }
   ],
   "source": [
    "plt.figure(figsize=(4,4))\n",
    "plt.title(\"Number of applicants based on term of the Loan\",fontdict={'fontsize':14,'fontweight':5,\n",
    "                                                                                 'color':'Magenta'})\n",
    "sns.countplot(data=inp4, x='term',order=['36 months','60 months'], palette=\"mako_r\")\n",
    "plt.xlabel(\"Length of the Term\",fontdict={'fontsize':12,'fontweight':5,'color':'Green'})\n",
    "plt.ylabel(\"Number of applicants\",fontdict={'fontsize':12,'fontweight':5,'color':'Green'})\n",
    "plt.show()"
   ]
  },
  {
   "cell_type": "markdown",
   "id": "565fd947",
   "metadata": {},
   "source": [
    "**Observation**<br>\n",
    "Majority of the applicants opted for 36 months duration of the loan."
   ]
  },
  {
   "cell_type": "markdown",
   "id": "17019b2c",
   "metadata": {},
   "source": [
    "**4. funded_amnt_inv : what is the distribution of the loan amount funded by the investor**"
   ]
  },
  {
   "cell_type": "code",
   "execution_count": 94,
   "id": "fbcca7cd",
   "metadata": {},
   "outputs": [
    {
     "data": {
      "image/png": "[encoded data removed]",
      "text/plain": [
       "<Figure size 2000x500 with 1 Axes>"
      ]
     },
     "metadata": {},
     "output_type": "display_data"
    }
   ],
   "source": [
    "plt.figure(figsize=(20,5))\n",
    "plt.title(\"Distribution of Loan amount funded by investors\",fontdict={'fontsize':16,'fontweight':5,\n",
    "                                                                                 'color':'Magenta'})\n",
    "plt.ylabel(\"Frequency\",fontdict={'fontsize':12,'fontweight':5,'color':'Green'})\n",
    "sns.distplot(inp4['funded_amnt_inv'],bins=20)\n",
    "plt.xlabel(\"Investor Funded amount\",fontdict={'fontsize':12,'fontweight':5,'color':'Green'})\n",
    "plt.show()"
   ]
  },
  {
   "cell_type": "markdown",
   "id": "b71ef989",
   "metadata": {},
   "source": [
    "**Observations**<br>\n",
    "Majority of the loans funded by the investor is around 5000 implying that many applicants are seeking smaller loans."
   ]
  },
  {
   "cell_type": "markdown",
   "id": "617417ed",
   "metadata": {},
   "source": [
    "**Observations based on columns home_ownership, grade, term and funded_amnt_inv**<br>\n",
    "A large majority of applicants are those whose funds were funded by investors for smaller loan amounts(around 5,000) and\n",
    "live on Rent or have Mortgages with loan applications with grades A or B and with a term of 36 months."
   ]
  },
  {
   "cell_type": "markdown",
   "id": "0822155c",
   "metadata": {},
   "source": [
    "## Univariate Segmented Analysis<br>\n",
    "1. segment on grades, univariate analysis on mean of loan amounts funded by investors"
   ]
  },
  {
   "cell_type": "markdown",
   "id": "7fada3fb",
   "metadata": {},
   "source": [
    "**1. segment on grades, univariate analysis on mean of loan amounts funded by investors**"
   ]
  },
  {
   "cell_type": "code",
   "execution_count": 105,
   "id": "c3798f23",
   "metadata": {},
   "outputs": [
    {
     "data": {
      "image/png": "[encoded data removed]",
      "text/plain": [
       "<Figure size 2000x500 with 1 Axes>"
      ]
     },
     "metadata": {},
     "output_type": "display_data"
    }
   ],
   "source": [
    "plt.figure(figsize=(20,5))\n",
    "plt.title(\"Average loan amount funded by investors based on loan status & grades\",fontdict={'fontsize':16,'fontweight':5,\n",
    "                                                                                 'color':'Magenta'})\n",
    "sns.barplot(data=inp4, x='grade',order=['A','B','C','D','E','F','G'],y='funded_amnt_inv',hue='loan_status',\n",
    "            estimator=np.mean)\n",
    "\n",
    "plt.ylabel(\"Loan amount funded by investor\",fontdict={'fontsize':12,'fontweight':5,'color':'Green'})\n",
    "plt.xlabel(\"Grades\",fontdict={'fontsize':12,'fontweight':5,'color':'Green'})\n",
    "plt.legend(title=\"Loan Status\")\n",
    "\n",
    "plt.show()"
   ]
  },
  {
   "cell_type": "code",
   "execution_count": null,
   "id": "e15c6a04",
   "metadata": {},
   "outputs": [],
   "source": []
  }
 ],
 "metadata": {
  "kernelspec": {
   "display_name": "Python 3 (ipykernel)",
   "language": "python",
   "name": "python3"
  },
  "language_info": {
   "codemirror_mode": {
    "name": "ipython",
    "version": 3
   },
   "file_extension": ".py",
   "mimetype": "text/x-python",
   "name": "python",
   "nbconvert_exporter": "python",
   "pygments_lexer": "ipython3",
   "version": "3.10.9"
  }
 },
 "nbformat": 4,
 "nbformat_minor": 5
}
