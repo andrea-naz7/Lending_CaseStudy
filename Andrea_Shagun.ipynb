{
 "cells": [
  {
   "cell_type": "markdown",
   "id": "c4b7e1bb",
   "metadata": {},
   "source": [
    "# Lending Club Case Study\n",
    "\n"
   ]
  },
  {
   "cell_type": "markdown",
   "id": "e601e0f5",
   "metadata": {},
   "source": [
    "## Objective"
   ]
  },
  {
   "cell_type": "markdown",
   "id": "cbcdccfb",
   "metadata": {},
   "source": [
    "Identify driving factors behind loan default in order to reduce credit loss.\n",
    "\n"
   ]
  },
  {
   "cell_type": "code",
   "execution_count": 1,
   "id": "6c93ed3c",
   "metadata": {},
   "outputs": [],
   "source": [
    "#import libraries\n",
    "import numpy as np\n",
    "import pandas as pd\n",
    "import matplotlib.pyplot as plt\n",
    "import seaborn as sns"
   ]
  },
  {
   "cell_type": "code",
   "execution_count": 2,
   "id": "da565389",
   "metadata": {},
   "outputs": [
    {
     "data": {
      "text/html": [
       "<div>\n",
       "<style scoped>\n",
       "    .dataframe tbody tr th:only-of-type {\n",
       "        vertical-align: middle;\n",
       "    }\n",
       "\n",
       "    .dataframe tbody tr th {\n",
       "        vertical-align: top;\n",
       "    }\n",
       "\n",
       "    .dataframe thead th {\n",
       "        text-align: right;\n",
       "    }\n",
       "</style>\n",
       "<table border=\"1\" class=\"dataframe\">\n",
       "  <thead>\n",
       "    <tr style=\"text-align: right;\">\n",
       "      <th></th>\n",
       "      <th>id</th>\n",
       "      <th>member_id</th>\n",
       "      <th>loan_amnt</th>\n",
       "      <th>funded_amnt</th>\n",
       "      <th>funded_amnt_inv</th>\n",
       "      <th>term</th>\n",
       "      <th>int_rate</th>\n",
       "      <th>installment</th>\n",
       "      <th>grade</th>\n",
       "      <th>sub_grade</th>\n",
       "      <th>...</th>\n",
       "      <th>num_tl_90g_dpd_24m</th>\n",
       "      <th>num_tl_op_past_12m</th>\n",
       "      <th>pct_tl_nvr_dlq</th>\n",
       "      <th>percent_bc_gt_75</th>\n",
       "      <th>pub_rec_bankruptcies</th>\n",
       "      <th>tax_liens</th>\n",
       "      <th>tot_hi_cred_lim</th>\n",
       "      <th>total_bal_ex_mort</th>\n",
       "      <th>total_bc_limit</th>\n",
       "      <th>total_il_high_credit_limit</th>\n",
       "    </tr>\n",
       "  </thead>\n",
       "  <tbody>\n",
       "    <tr>\n",
       "      <th>0</th>\n",
       "      <td>1077501</td>\n",
       "      <td>1296599</td>\n",
       "      <td>5000</td>\n",
       "      <td>5000</td>\n",
       "      <td>4975.0</td>\n",
       "      <td>36 months</td>\n",
       "      <td>10.65%</td>\n",
       "      <td>162.87</td>\n",
       "      <td>B</td>\n",
       "      <td>B2</td>\n",
       "      <td>...</td>\n",
       "      <td>NaN</td>\n",
       "      <td>NaN</td>\n",
       "      <td>NaN</td>\n",
       "      <td>NaN</td>\n",
       "      <td>0.0</td>\n",
       "      <td>0.0</td>\n",
       "      <td>NaN</td>\n",
       "      <td>NaN</td>\n",
       "      <td>NaN</td>\n",
       "      <td>NaN</td>\n",
       "    </tr>\n",
       "    <tr>\n",
       "      <th>1</th>\n",
       "      <td>1077430</td>\n",
       "      <td>1314167</td>\n",
       "      <td>2500</td>\n",
       "      <td>2500</td>\n",
       "      <td>2500.0</td>\n",
       "      <td>60 months</td>\n",
       "      <td>15.27%</td>\n",
       "      <td>59.83</td>\n",
       "      <td>C</td>\n",
       "      <td>C4</td>\n",
       "      <td>...</td>\n",
       "      <td>NaN</td>\n",
       "      <td>NaN</td>\n",
       "      <td>NaN</td>\n",
       "      <td>NaN</td>\n",
       "      <td>0.0</td>\n",
       "      <td>0.0</td>\n",
       "      <td>NaN</td>\n",
       "      <td>NaN</td>\n",
       "      <td>NaN</td>\n",
       "      <td>NaN</td>\n",
       "    </tr>\n",
       "    <tr>\n",
       "      <th>2</th>\n",
       "      <td>1077175</td>\n",
       "      <td>1313524</td>\n",
       "      <td>2400</td>\n",
       "      <td>2400</td>\n",
       "      <td>2400.0</td>\n",
       "      <td>36 months</td>\n",
       "      <td>15.96%</td>\n",
       "      <td>84.33</td>\n",
       "      <td>C</td>\n",
       "      <td>C5</td>\n",
       "      <td>...</td>\n",
       "      <td>NaN</td>\n",
       "      <td>NaN</td>\n",
       "      <td>NaN</td>\n",
       "      <td>NaN</td>\n",
       "      <td>0.0</td>\n",
       "      <td>0.0</td>\n",
       "      <td>NaN</td>\n",
       "      <td>NaN</td>\n",
       "      <td>NaN</td>\n",
       "      <td>NaN</td>\n",
       "    </tr>\n",
       "    <tr>\n",
       "      <th>3</th>\n",
       "      <td>1076863</td>\n",
       "      <td>1277178</td>\n",
       "      <td>10000</td>\n",
       "      <td>10000</td>\n",
       "      <td>10000.0</td>\n",
       "      <td>36 months</td>\n",
       "      <td>13.49%</td>\n",
       "      <td>339.31</td>\n",
       "      <td>C</td>\n",
       "      <td>C1</td>\n",
       "      <td>...</td>\n",
       "      <td>NaN</td>\n",
       "      <td>NaN</td>\n",
       "      <td>NaN</td>\n",
       "      <td>NaN</td>\n",
       "      <td>0.0</td>\n",
       "      <td>0.0</td>\n",
       "      <td>NaN</td>\n",
       "      <td>NaN</td>\n",
       "      <td>NaN</td>\n",
       "      <td>NaN</td>\n",
       "    </tr>\n",
       "    <tr>\n",
       "      <th>4</th>\n",
       "      <td>1075358</td>\n",
       "      <td>1311748</td>\n",
       "      <td>3000</td>\n",
       "      <td>3000</td>\n",
       "      <td>3000.0</td>\n",
       "      <td>60 months</td>\n",
       "      <td>12.69%</td>\n",
       "      <td>67.79</td>\n",
       "      <td>B</td>\n",
       "      <td>B5</td>\n",
       "      <td>...</td>\n",
       "      <td>NaN</td>\n",
       "      <td>NaN</td>\n",
       "      <td>NaN</td>\n",
       "      <td>NaN</td>\n",
       "      <td>0.0</td>\n",
       "      <td>0.0</td>\n",
       "      <td>NaN</td>\n",
       "      <td>NaN</td>\n",
       "      <td>NaN</td>\n",
       "      <td>NaN</td>\n",
       "    </tr>\n",
       "  </tbody>\n",
       "</table>\n",
       "<p>5 rows × 111 columns</p>\n",
       "</div>"
      ],
      "text/plain": [
       "        id  member_id  loan_amnt  funded_amnt  funded_amnt_inv        term  \\\n",
       "0  1077501    1296599       5000         5000           4975.0   36 months   \n",
       "1  1077430    1314167       2500         2500           2500.0   60 months   \n",
       "2  1077175    1313524       2400         2400           2400.0   36 months   \n",
       "3  1076863    1277178      10000        10000          10000.0   36 months   \n",
       "4  1075358    1311748       3000         3000           3000.0   60 months   \n",
       "\n",
       "  int_rate  installment grade sub_grade  ... num_tl_90g_dpd_24m  \\\n",
       "0   10.65%       162.87     B        B2  ...                NaN   \n",
       "1   15.27%        59.83     C        C4  ...                NaN   \n",
       "2   15.96%        84.33     C        C5  ...                NaN   \n",
       "3   13.49%       339.31     C        C1  ...                NaN   \n",
       "4   12.69%        67.79     B        B5  ...                NaN   \n",
       "\n",
       "  num_tl_op_past_12m pct_tl_nvr_dlq  percent_bc_gt_75 pub_rec_bankruptcies  \\\n",
       "0                NaN            NaN               NaN                  0.0   \n",
       "1                NaN            NaN               NaN                  0.0   \n",
       "2                NaN            NaN               NaN                  0.0   \n",
       "3                NaN            NaN               NaN                  0.0   \n",
       "4                NaN            NaN               NaN                  0.0   \n",
       "\n",
       "  tax_liens tot_hi_cred_lim total_bal_ex_mort total_bc_limit  \\\n",
       "0       0.0             NaN               NaN            NaN   \n",
       "1       0.0             NaN               NaN            NaN   \n",
       "2       0.0             NaN               NaN            NaN   \n",
       "3       0.0             NaN               NaN            NaN   \n",
       "4       0.0             NaN               NaN            NaN   \n",
       "\n",
       "  total_il_high_credit_limit  \n",
       "0                        NaN  \n",
       "1                        NaN  \n",
       "2                        NaN  \n",
       "3                        NaN  \n",
       "4                        NaN  \n",
       "\n",
       "[5 rows x 111 columns]"
      ]
     },
     "execution_count": 2,
     "metadata": {},
     "output_type": "execute_result"
    }
   ],
   "source": [
    "#load the data \n",
    "inp0 = pd.read_csv('loan.csv',header=0,low_memory=False)\n",
    "inp0.head()"
   ]
  },
  {
   "cell_type": "markdown",
   "id": "f5aaef78",
   "metadata": {},
   "source": [
    "## 1.Data Understanding"
   ]
  },
  {
   "cell_type": "markdown",
   "id": "6071bdd1",
   "metadata": {},
   "source": [
    "The below steps are executed for **data understanding**:<br>\n",
    "> 1. Finding number of rows & columns<br>\n",
    "> 2. Determing which columns to drop based on :<br>\n",
    ">> 2.1 whether the data in the columns pertains to those applications that have already been accepted<br>\n",
    ">> 2.2 whether the data in the columns are unique text/descriptive values<br>\n",
    ">> 2.3 whether the data in the columns are only single values<br>\n",
    ">> 2.4 whether the data in the columns contain only NaN values<br>\n",
    ">> 2.5 whether the data in the columns is very unique<br>\n",
    ">> 2.6 whether the data contains only 1 unique value in each column<br>\n",
    ">> 2.7 whether the data in the columns contain high percentage of Null & NaN values<br>\n",
    "> 3. Determination of the columns that will act as driving factors to identify loans that may default<br>\n",
    "> 4. Explanation of why these columns will play a role<br>\n",
    "> 5. Remove the rows for which applications have already been approved.    \n",
    "> 6. Identification of data quality issues such as removing spaces or removing special symbols like % or in general \n",
    "    standardizing the data for EDA."
   ]
  },
  {
   "cell_type": "markdown",
   "id": "ec4cb2c8",
   "metadata": {},
   "source": [
    "**1. Finding number of rows & columns**"
   ]
  },
  {
   "cell_type": "code",
   "execution_count": 3,
   "id": "161af8aa",
   "metadata": {},
   "outputs": [
    {
     "data": {
      "text/plain": [
       "(39717, 111)"
      ]
     },
     "execution_count": 3,
     "metadata": {},
     "output_type": "execute_result"
    }
   ],
   "source": [
    "#number of rows & columns\n",
    "inp0.shape"
   ]
  },
  {
   "cell_type": "code",
   "execution_count": 4,
   "id": "21c9c1d7",
   "metadata": {},
   "outputs": [
    {
     "data": {
      "text/plain": [
       "['id',\n",
       " 'member_id',\n",
       " 'loan_amnt',\n",
       " 'funded_amnt',\n",
       " 'funded_amnt_inv',\n",
       " 'term',\n",
       " 'int_rate',\n",
       " 'installment',\n",
       " 'grade',\n",
       " 'sub_grade',\n",
       " 'emp_title',\n",
       " 'emp_length',\n",
       " 'home_ownership',\n",
       " 'annual_inc',\n",
       " 'verification_status',\n",
       " 'issue_d',\n",
       " 'loan_status',\n",
       " 'pymnt_plan',\n",
       " 'url',\n",
       " 'desc',\n",
       " 'purpose',\n",
       " 'title',\n",
       " 'zip_code',\n",
       " 'addr_state',\n",
       " 'dti',\n",
       " 'delinq_2yrs',\n",
       " 'earliest_cr_line',\n",
       " 'inq_last_6mths',\n",
       " 'mths_since_last_delinq',\n",
       " 'mths_since_last_record',\n",
       " 'open_acc',\n",
       " 'pub_rec',\n",
       " 'revol_bal',\n",
       " 'revol_util',\n",
       " 'total_acc',\n",
       " 'initial_list_status',\n",
       " 'out_prncp',\n",
       " 'out_prncp_inv',\n",
       " 'total_pymnt',\n",
       " 'total_pymnt_inv',\n",
       " 'total_rec_prncp',\n",
       " 'total_rec_int',\n",
       " 'total_rec_late_fee',\n",
       " 'recoveries',\n",
       " 'collection_recovery_fee',\n",
       " 'last_pymnt_d',\n",
       " 'last_pymnt_amnt',\n",
       " 'next_pymnt_d',\n",
       " 'last_credit_pull_d',\n",
       " 'collections_12_mths_ex_med',\n",
       " 'mths_since_last_major_derog',\n",
       " 'policy_code',\n",
       " 'application_type',\n",
       " 'annual_inc_joint',\n",
       " 'dti_joint',\n",
       " 'verification_status_joint',\n",
       " 'acc_now_delinq',\n",
       " 'tot_coll_amt',\n",
       " 'tot_cur_bal',\n",
       " 'open_acc_6m',\n",
       " 'open_il_6m',\n",
       " 'open_il_12m',\n",
       " 'open_il_24m',\n",
       " 'mths_since_rcnt_il',\n",
       " 'total_bal_il',\n",
       " 'il_util',\n",
       " 'open_rv_12m',\n",
       " 'open_rv_24m',\n",
       " 'max_bal_bc',\n",
       " 'all_util',\n",
       " 'total_rev_hi_lim',\n",
       " 'inq_fi',\n",
       " 'total_cu_tl',\n",
       " 'inq_last_12m',\n",
       " 'acc_open_past_24mths',\n",
       " 'avg_cur_bal',\n",
       " 'bc_open_to_buy',\n",
       " 'bc_util',\n",
       " 'chargeoff_within_12_mths',\n",
       " 'delinq_amnt',\n",
       " 'mo_sin_old_il_acct',\n",
       " 'mo_sin_old_rev_tl_op',\n",
       " 'mo_sin_rcnt_rev_tl_op',\n",
       " 'mo_sin_rcnt_tl',\n",
       " 'mort_acc',\n",
       " 'mths_since_recent_bc',\n",
       " 'mths_since_recent_bc_dlq',\n",
       " 'mths_since_recent_inq',\n",
       " 'mths_since_recent_revol_delinq',\n",
       " 'num_accts_ever_120_pd',\n",
       " 'num_actv_bc_tl',\n",
       " 'num_actv_rev_tl',\n",
       " 'num_bc_sats',\n",
       " 'num_bc_tl',\n",
       " 'num_il_tl',\n",
       " 'num_op_rev_tl',\n",
       " 'num_rev_accts',\n",
       " 'num_rev_tl_bal_gt_0',\n",
       " 'num_sats',\n",
       " 'num_tl_120dpd_2m',\n",
       " 'num_tl_30dpd',\n",
       " 'num_tl_90g_dpd_24m',\n",
       " 'num_tl_op_past_12m',\n",
       " 'pct_tl_nvr_dlq',\n",
       " 'percent_bc_gt_75',\n",
       " 'pub_rec_bankruptcies',\n",
       " 'tax_liens',\n",
       " 'tot_hi_cred_lim',\n",
       " 'total_bal_ex_mort',\n",
       " 'total_bc_limit',\n",
       " 'total_il_high_credit_limit']"
      ]
     },
     "execution_count": 4,
     "metadata": {},
     "output_type": "execute_result"
    }
   ],
   "source": [
    "#list all columns \n",
    "list(inp0.columns)"
   ]
  },
  {
   "cell_type": "markdown",
   "id": "6ecb864e",
   "metadata": {},
   "source": [
    "**2. Determing which columns to drop based on :<br>\n",
    "    2.1 whether the data in the columns pertains to those applications that have already been accepted**"
   ]
  },
  {
   "cell_type": "markdown",
   "id": "dd08659b",
   "metadata": {},
   "source": [
    "**Action**\n",
    "\n",
    "Below columns contain customer behavior variables which are valid only after loan is approved and therefore they cannot be used for prediction of whether the loan will be approved. Hence these columns are removed.\n",
    "\n",
    "List of columns and their description : To-be-completed"
   ]
  },
  {
   "cell_type": "code",
   "execution_count": 5,
   "id": "a94e90b0",
   "metadata": {},
   "outputs": [],
   "source": [
    "inp0.drop(['delinq_2yrs','earliest_cr_line','inq_last_6mths','open_acc','pub_rec','revol_bal','revol_util','total_acc','out_prncp',\n",
    "          'out_prncp_inv','total_pymnt','total_pymnt_inv','total_rec_prncp','total_rec_int','total_rec_late_fee','recoveries',\n",
    "          'collection_recovery_fee', 'last_pymnt_d','last_pymnt_amnt','last_credit_pull_d','application_type'], \n",
    "          axis=1, inplace=True)"
   ]
  },
  {
   "cell_type": "code",
   "execution_count": 6,
   "id": "aec51a55",
   "metadata": {},
   "outputs": [
    {
     "data": {
      "text/plain": [
       "(39717, 90)"
      ]
     },
     "execution_count": 6,
     "metadata": {},
     "output_type": "execute_result"
    }
   ],
   "source": [
    "inp0.shape"
   ]
  },
  {
   "cell_type": "markdown",
   "id": "eec6cf91",
   "metadata": {},
   "source": [
    "**2.2 whether the data in the columns are unique text/descriptive values**"
   ]
  },
  {
   "cell_type": "markdown",
   "id": "0be58acb",
   "metadata": {},
   "source": [
    "**Action**\n",
    "\n",
    "Below columns contain data that is not pertinent in determinating the factors that will predict the possibility of the loan \n",
    "being approved because of unique text values for each row as described in the data dictionary. Hence these columns are removed.\n",
    "\n",
    "list of columsn & their description : to - be completed"
   ]
  },
  {
   "cell_type": "code",
   "execution_count": 7,
   "id": "fe2d8fed",
   "metadata": {},
   "outputs": [],
   "source": [
    "inp0.drop(['emp_title','pymnt_plan','url','desc','title', 'zip_code'],axis=1, inplace=True)"
   ]
  },
  {
   "cell_type": "code",
   "execution_count": 8,
   "id": "f6bc6ef8",
   "metadata": {},
   "outputs": [
    {
     "data": {
      "text/plain": [
       "(39717, 84)"
      ]
     },
     "execution_count": 8,
     "metadata": {},
     "output_type": "execute_result"
    }
   ],
   "source": [
    "inp0.shape"
   ]
  },
  {
   "cell_type": "markdown",
   "id": "8a188bb7",
   "metadata": {},
   "source": [
    "**2.3 whether the data in the columns are only single values**"
   ]
  },
  {
   "cell_type": "markdown",
   "id": "807c5403",
   "metadata": {},
   "source": [
    "**Action**\n",
    "\n",
    "Remove columns containing 0 unique values which imply that there is only 1 value in that column. This is not useful for\n",
    "analysis so these columns are removed. Further analysis is executed to check whether these columns contain NaN values."
   ]
  },
  {
   "cell_type": "code",
   "execution_count": 9,
   "id": "ca5d975a",
   "metadata": {},
   "outputs": [
    {
     "data": {
      "text/plain": [
       "id                            39717\n",
       "member_id                     39717\n",
       "loan_amnt                       885\n",
       "funded_amnt                    1041\n",
       "funded_amnt_inv                8205\n",
       "                              ...  \n",
       "tax_liens                         1\n",
       "tot_hi_cred_lim                   0\n",
       "total_bal_ex_mort                 0\n",
       "total_bc_limit                    0\n",
       "total_il_high_credit_limit        0\n",
       "Length: 84, dtype: int64"
      ]
     },
     "execution_count": 9,
     "metadata": {},
     "output_type": "execute_result"
    }
   ],
   "source": [
    "col0=inp0.nunique()\n",
    "col0"
   ]
  },
  {
   "cell_type": "code",
   "execution_count": 10,
   "id": "13be592c",
   "metadata": {},
   "outputs": [],
   "source": [
    "#column index with no values\n",
    "indices0 = [i for i in range(len(col0)) if col0[i] == 0]"
   ]
  },
  {
   "cell_type": "code",
   "execution_count": 11,
   "id": "73dcf212",
   "metadata": {},
   "outputs": [
    {
     "data": {
      "text/plain": [
       "Index(['mths_since_last_major_derog', 'annual_inc_joint', 'dti_joint',\n",
       "       'verification_status_joint', 'tot_coll_amt', 'tot_cur_bal',\n",
       "       'open_acc_6m', 'open_il_6m', 'open_il_12m', 'open_il_24m',\n",
       "       'mths_since_rcnt_il', 'total_bal_il', 'il_util', 'open_rv_12m',\n",
       "       'open_rv_24m', 'max_bal_bc', 'all_util', 'total_rev_hi_lim', 'inq_fi',\n",
       "       'total_cu_tl', 'inq_last_12m', 'acc_open_past_24mths', 'avg_cur_bal',\n",
       "       'bc_open_to_buy', 'bc_util', 'mo_sin_old_il_acct',\n",
       "       'mo_sin_old_rev_tl_op', 'mo_sin_rcnt_rev_tl_op', 'mo_sin_rcnt_tl',\n",
       "       'mort_acc', 'mths_since_recent_bc', 'mths_since_recent_bc_dlq',\n",
       "       'mths_since_recent_inq', 'mths_since_recent_revol_delinq',\n",
       "       'num_accts_ever_120_pd', 'num_actv_bc_tl', 'num_actv_rev_tl',\n",
       "       'num_bc_sats', 'num_bc_tl', 'num_il_tl', 'num_op_rev_tl',\n",
       "       'num_rev_accts', 'num_rev_tl_bal_gt_0', 'num_sats', 'num_tl_120dpd_2m',\n",
       "       'num_tl_30dpd', 'num_tl_90g_dpd_24m', 'num_tl_op_past_12m',\n",
       "       'pct_tl_nvr_dlq', 'percent_bc_gt_75', 'tot_hi_cred_lim',\n",
       "       'total_bal_ex_mort', 'total_bc_limit', 'total_il_high_credit_limit'],\n",
       "      dtype='object')"
      ]
     },
     "execution_count": 11,
     "metadata": {},
     "output_type": "execute_result"
    }
   ],
   "source": [
    "# reading the column header for the indices determined to have no unique values\n",
    "inp0.columns[indices0]"
   ]
  },
  {
   "cell_type": "markdown",
   "id": "47739fb3",
   "metadata": {},
   "source": [
    "**2.4 whether the data in the columns contain only NaN values**"
   ]
  },
  {
   "cell_type": "code",
   "execution_count": 12,
   "id": "22de2723",
   "metadata": {},
   "outputs": [
    {
     "name": "stdout",
     "output_type": "stream",
     "text": [
      "54\n"
     ]
    }
   ],
   "source": [
    "#checking if all the columns contain NaN\n",
    "na_check = [inp0[i].isna().sum()  for i in inp0.columns[indices0]]\n",
    "print(len(na_check))"
   ]
  },
  {
   "cell_type": "code",
   "execution_count": 13,
   "id": "06976fe4",
   "metadata": {},
   "outputs": [
    {
     "name": "stdout",
     "output_type": "stream",
     "text": [
      "54\n"
     ]
    }
   ],
   "source": [
    "#There are 54 rowss in na_check that contain the total number of NaNs in each column; now check whether all the rows in \n",
    "#these columns contain NaNs by comparing to total number of rows in data set which is 39717\n",
    "count = sum(map(lambda x : x== 39717, na_check))\n",
    "print(count)"
   ]
  },
  {
   "cell_type": "markdown",
   "id": "7ffc4867",
   "metadata": {},
   "source": [
    "**Action**\n",
    "\n",
    "The number of NaN values in the indices list for each column is the same as the number of rows present in the dataset.\n",
    "Therefore these columns only have NaN values and will be dropped as they do not add any value."
   ]
  },
  {
   "cell_type": "markdown",
   "id": "b495a70c",
   "metadata": {},
   "source": [
    "**2.5 whether the data in the columns is very unique**"
   ]
  },
  {
   "cell_type": "code",
   "execution_count": 14,
   "id": "0f837917",
   "metadata": {},
   "outputs": [],
   "source": [
    "def check_uniqueness(x):\n",
    "    return [i for i in range(len(col0)) if col0[i] == x]    "
   ]
  },
  {
   "cell_type": "code",
   "execution_count": 15,
   "id": "166526ed",
   "metadata": {},
   "outputs": [],
   "source": [
    "#unique values are unique for each row; empty indices for new operation\n",
    "indices0.extend(check_uniqueness(39717)) "
   ]
  },
  {
   "cell_type": "markdown",
   "id": "1f72ff29",
   "metadata": {},
   "source": [
    "**Action**<br>\n",
    "Columns with unique values for every row are **id** and **member_id** which can be dropped."
   ]
  },
  {
   "cell_type": "markdown",
   "id": "0adc78d3",
   "metadata": {},
   "source": [
    "**2.6 whether the data contains only 1 unique value in each column**"
   ]
  },
  {
   "cell_type": "code",
   "execution_count": 16,
   "id": "5481e36d",
   "metadata": {},
   "outputs": [],
   "source": [
    "# unique values are 1 for each row\n",
    "indices0.extend(check_uniqueness(1))"
   ]
  },
  {
   "cell_type": "code",
   "execution_count": 17,
   "id": "1600e0d6",
   "metadata": {},
   "outputs": [
    {
     "data": {
      "text/plain": [
       "(39717, 84)"
      ]
     },
     "execution_count": 17,
     "metadata": {},
     "output_type": "execute_result"
    }
   ],
   "source": [
    "#confirming the number of columns present before dropping them\n",
    "inp0.shape"
   ]
  },
  {
   "cell_type": "code",
   "execution_count": 18,
   "id": "121b12a5",
   "metadata": {},
   "outputs": [
    {
     "data": {
      "text/plain": [
       "(39717, 21)"
      ]
     },
     "execution_count": 18,
     "metadata": {},
     "output_type": "execute_result"
    }
   ],
   "source": [
    "#new shape of the dataset\n",
    "inp0.drop(inp0.columns[indices0],axis=1, inplace=True)\n",
    "inp0.shape"
   ]
  },
  {
   "cell_type": "markdown",
   "id": "01c4a93e",
   "metadata": {},
   "source": [
    "**2.7 whether the data in the columns contain high percentage of Null & NaN values**"
   ]
  },
  {
   "cell_type": "code",
   "execution_count": 19,
   "id": "5ef320aa",
   "metadata": {},
   "outputs": [
    {
     "data": {
      "text/plain": [
       "loan_amnt                  0.0\n",
       "funded_amnt                0.0\n",
       "funded_amnt_inv            0.0\n",
       "term                       0.0\n",
       "int_rate                   0.0\n",
       "installment                0.0\n",
       "grade                      0.0\n",
       "sub_grade                  0.0\n",
       "emp_length                 2.7\n",
       "home_ownership             0.0\n",
       "annual_inc                 0.0\n",
       "verification_status        0.0\n",
       "issue_d                    0.0\n",
       "loan_status                0.0\n",
       "purpose                    0.0\n",
       "addr_state                 0.0\n",
       "dti                        0.0\n",
       "mths_since_last_delinq    64.7\n",
       "mths_since_last_record    93.0\n",
       "next_pymnt_d              97.1\n",
       "pub_rec_bankruptcies       1.8\n",
       "dtype: float64"
      ]
     },
     "execution_count": 19,
     "metadata": {},
     "output_type": "execute_result"
    }
   ],
   "source": [
    "round((inp0.isnull().sum()/len(inp0.index))*100,1)"
   ]
  },
  {
   "cell_type": "markdown",
   "id": "efc0b7c9",
   "metadata": {},
   "source": [
    "**Action**<br>\n",
    "Remove columns with null value percentage greater than 60% since these data will have no affect on prediction. Decision to replace them will be taken in Data Cleaning & Manipulation."
   ]
  },
  {
   "cell_type": "code",
   "execution_count": 20,
   "id": "d1e729ed",
   "metadata": {},
   "outputs": [
    {
     "data": {
      "text/plain": [
       "(39717, 18)"
      ]
     },
     "execution_count": 20,
     "metadata": {},
     "output_type": "execute_result"
    }
   ],
   "source": [
    "inp0.drop(['mths_since_last_delinq','mths_since_last_record','next_pymnt_d'],axis=1, inplace=True)\n",
    "inp0.shape"
   ]
  },
  {
   "cell_type": "code",
   "execution_count": 21,
   "id": "f8a5460e",
   "metadata": {},
   "outputs": [
    {
     "data": {
      "text/plain": [
       "loan_amnt               0.0\n",
       "funded_amnt             0.0\n",
       "funded_amnt_inv         0.0\n",
       "term                    0.0\n",
       "int_rate                0.0\n",
       "installment             0.0\n",
       "grade                   0.0\n",
       "sub_grade               0.0\n",
       "emp_length              2.7\n",
       "home_ownership          0.0\n",
       "annual_inc              0.0\n",
       "verification_status     0.0\n",
       "issue_d                 0.0\n",
       "loan_status             0.0\n",
       "purpose                 0.0\n",
       "addr_state              0.0\n",
       "dti                     0.0\n",
       "pub_rec_bankruptcies    1.8\n",
       "dtype: float64"
      ]
     },
     "execution_count": 21,
     "metadata": {},
     "output_type": "execute_result"
    }
   ],
   "source": [
    "round((inp0.isna().sum()/len(inp0.index))*100,1)"
   ]
  },
  {
   "cell_type": "markdown",
   "id": "fab6cf8a",
   "metadata": {},
   "source": [
    "**Action**<br>\n",
    "NaN values present, however their percentage isn't high. Decision to replace them will be taken in Data Cleaning & Manipulation<br>\n",
    "Outliers will be handled in Data Cleaning & Manipulation also."
   ]
  },
  {
   "cell_type": "markdown",
   "id": "0f65f6f7",
   "metadata": {},
   "source": [
    "**3. Determination of the columns that will act as driving factors to identify loans that may default**<br>\n",
    "description needed<br>\n",
    "1. loan_amt: <br>\n",
    "2. funded_amnt<br>\n",
    "3. funded_amnt_ivt<br>\n",
    "4. term<br>\n",
    "5. int_rate<br>\n",
    "6. installment<br>\n",
    "7. grade<br>\n",
    "8. sub-grade<br>\n",
    "9. emp_length<br>\n",
    "10. home_ownership<br>\n",
    "11. verification_status<br>\n",
    "12. annual_inc<br>\n",
    "13. issue_d<br>\n",
    "14. loan_status<br>\n",
    "15. purpose<br>\n",
    "16. addr_state<br>\n",
    "17. dti<br>\n",
    "\n",
    "maybe can remove more columns like policy_code"
   ]
  },
  {
   "cell_type": "code",
   "execution_count": null,
   "id": "6ab7fd53",
   "metadata": {},
   "outputs": [],
   "source": []
  }
 ],
 "metadata": {
  "kernelspec": {
   "display_name": "Python 3 (ipykernel)",
   "language": "python",
   "name": "python3"
  },
  "language_info": {
   "codemirror_mode": {
    "name": "ipython",
    "version": 3
   },
   "file_extension": ".py",
   "mimetype": "text/x-python",
   "name": "python",
   "nbconvert_exporter": "python",
   "pygments_lexer": "ipython3",
   "version": "3.10.9"
  }
 },
 "nbformat": 4,
 "nbformat_minor": 5
}
